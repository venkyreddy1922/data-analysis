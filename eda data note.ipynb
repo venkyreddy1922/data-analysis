{
 "cells": [
  {
   "cell_type": "code",
   "execution_count": 2,
   "id": "892f4017",
   "metadata": {},
   "outputs": [],
   "source": [
    "# importing pandas and nummpy\n",
    "import pandas as pd\n",
    "import numpy as np\n",
    "# importing seaborn and matplotlib\n",
    "import matplotlib.pyplot as plt\n",
    "import seaborn as sns"
   ]
  },
  {
   "cell_type": "markdown",
   "id": "701ab34c",
   "metadata": {},
   "source": [
    "# Pandas"
   ]
  },
  {
   "cell_type": "markdown",
   "id": "4aff8da8",
   "metadata": {},
   "source": [
    "###### *Pandas is a fast, powerful, flexible and easy to use open source data analysis and manipulation tool,built on top of the Python programming language. ### Numpy\n",
    "###### *NumPy is a Python library used for working with arrays.\n",
    "###### *It also has functions for working in domain of linear algebra, fourier transform, and matrices. ###Matplotlib\n",
    "###### *Matplotlib is a comprehensive library for creating static, animated, and interactive visualizations in Python. Matplotlib makes easy things easy and hard things possible. ###Seaborn\n",
    "##### *Seaborn is a library that uses Matplotlib underneath to plot graphs. It will be used to visualize random distributions."
   ]
  },
  {
   "cell_type": "markdown",
   "id": "f55d2e97",
   "metadata": {},
   "source": [
    "# Visualizing dataset"
   ]
  },
  {
   "cell_type": "code",
   "execution_count": 3,
   "id": "93d453f8",
   "metadata": {},
   "outputs": [
    {
     "data": {
      "text/html": [
       "<div>\n",
       "<style scoped>\n",
       "    .dataframe tbody tr th:only-of-type {\n",
       "        vertical-align: middle;\n",
       "    }\n",
       "\n",
       "    .dataframe tbody tr th {\n",
       "        vertical-align: top;\n",
       "    }\n",
       "\n",
       "    .dataframe thead th {\n",
       "        text-align: right;\n",
       "    }\n",
       "</style>\n",
       "<table border=\"1\" class=\"dataframe\">\n",
       "  <thead>\n",
       "    <tr style=\"text-align: right;\">\n",
       "      <th></th>\n",
       "      <th>hotstar_id</th>\n",
       "      <th>title</th>\n",
       "      <th>description</th>\n",
       "      <th>genre</th>\n",
       "      <th>year</th>\n",
       "      <th>age_rating</th>\n",
       "      <th>running_time</th>\n",
       "      <th>seasons</th>\n",
       "      <th>episodes</th>\n",
       "      <th>type</th>\n",
       "    </tr>\n",
       "  </thead>\n",
       "  <tbody>\n",
       "    <tr>\n",
       "      <th>0</th>\n",
       "      <td>1000231066</td>\n",
       "      <td>Rekka</td>\n",
       "      <td>Known for helping girls in getting out of unwa...</td>\n",
       "      <td>Action</td>\n",
       "      <td>2016</td>\n",
       "      <td>U/A 13+</td>\n",
       "      <td>114.0</td>\n",
       "      <td>NaN</td>\n",
       "      <td>NaN</td>\n",
       "      <td>movie</td>\n",
       "    </tr>\n",
       "    <tr>\n",
       "      <th>1</th>\n",
       "      <td>1260059119</td>\n",
       "      <td>Hamara Bar Happy Hour</td>\n",
       "      <td>Failed actors and friends Pari, Gulshan, Shiva...</td>\n",
       "      <td>Comedy</td>\n",
       "      <td>2021</td>\n",
       "      <td>U/A 16+</td>\n",
       "      <td>NaN</td>\n",
       "      <td>1.0</td>\n",
       "      <td>8.0</td>\n",
       "      <td>tv</td>\n",
       "    </tr>\n",
       "    <tr>\n",
       "      <th>2</th>\n",
       "      <td>1000098151</td>\n",
       "      <td>Shodha</td>\n",
       "      <td>As part of a study tour, a group of college st...</td>\n",
       "      <td>Drama</td>\n",
       "      <td>2009</td>\n",
       "      <td>U/A 13+</td>\n",
       "      <td>113.0</td>\n",
       "      <td>NaN</td>\n",
       "      <td>NaN</td>\n",
       "      <td>movie</td>\n",
       "    </tr>\n",
       "    <tr>\n",
       "      <th>3</th>\n",
       "      <td>1770000953</td>\n",
       "      <td>Aliens</td>\n",
       "      <td>After surviving an apocalyptic attack aboard h...</td>\n",
       "      <td>Action</td>\n",
       "      <td>1986</td>\n",
       "      <td>A</td>\n",
       "      <td>137.0</td>\n",
       "      <td>NaN</td>\n",
       "      <td>NaN</td>\n",
       "      <td>movie</td>\n",
       "    </tr>\n",
       "    <tr>\n",
       "      <th>4</th>\n",
       "      <td>1000108836</td>\n",
       "      <td>Arakkallan Mukkalkkallan</td>\n",
       "      <td>Naagan and Aruvikkara Thampy are sworn enemies...</td>\n",
       "      <td>Thriller</td>\n",
       "      <td>1974</td>\n",
       "      <td>U</td>\n",
       "      <td>152.0</td>\n",
       "      <td>NaN</td>\n",
       "      <td>NaN</td>\n",
       "      <td>movie</td>\n",
       "    </tr>\n",
       "  </tbody>\n",
       "</table>\n",
       "</div>"
      ],
      "text/plain": [
       "   hotstar_id                     title  \\\n",
       "0  1000231066                     Rekka   \n",
       "1  1260059119     Hamara Bar Happy Hour   \n",
       "2  1000098151                    Shodha   \n",
       "3  1770000953                    Aliens   \n",
       "4  1000108836  Arakkallan Mukkalkkallan   \n",
       "\n",
       "                                         description     genre  year  \\\n",
       "0  Known for helping girls in getting out of unwa...    Action  2016   \n",
       "1  Failed actors and friends Pari, Gulshan, Shiva...    Comedy  2021   \n",
       "2  As part of a study tour, a group of college st...     Drama  2009   \n",
       "3  After surviving an apocalyptic attack aboard h...    Action  1986   \n",
       "4  Naagan and Aruvikkara Thampy are sworn enemies...  Thriller  1974   \n",
       "\n",
       "  age_rating  running_time  seasons  episodes   type  \n",
       "0    U/A 13+         114.0      NaN       NaN  movie  \n",
       "1    U/A 16+           NaN      1.0       8.0     tv  \n",
       "2    U/A 13+         113.0      NaN       NaN  movie  \n",
       "3          A         137.0      NaN       NaN  movie  \n",
       "4          U         152.0      NaN       NaN  movie  "
      ]
     },
     "execution_count": 3,
     "metadata": {},
     "output_type": "execute_result"
    }
   ],
   "source": [
    "# importing csv file into the notebook using pandas\n",
    "data=pd.read_csv(r\"C:\\Users\\91810\\Downloads\\MY_PROJECT.zip\")\n",
    "data.head()"
   ]
  },
  {
   "cell_type": "code",
   "execution_count": 4,
   "id": "24bc69fd",
   "metadata": {},
   "outputs": [
    {
     "data": {
      "text/html": [
       "<div>\n",
       "<style scoped>\n",
       "    .dataframe tbody tr th:only-of-type {\n",
       "        vertical-align: middle;\n",
       "    }\n",
       "\n",
       "    .dataframe tbody tr th {\n",
       "        vertical-align: top;\n",
       "    }\n",
       "\n",
       "    .dataframe thead th {\n",
       "        text-align: right;\n",
       "    }\n",
       "</style>\n",
       "<table border=\"1\" class=\"dataframe\">\n",
       "  <thead>\n",
       "    <tr style=\"text-align: right;\">\n",
       "      <th></th>\n",
       "      <th>title</th>\n",
       "      <th>description</th>\n",
       "      <th>genre</th>\n",
       "      <th>year</th>\n",
       "      <th>age_rating</th>\n",
       "      <th>running_time</th>\n",
       "      <th>seasons</th>\n",
       "      <th>episodes</th>\n",
       "      <th>type</th>\n",
       "    </tr>\n",
       "    <tr>\n",
       "      <th>hotstar_id</th>\n",
       "      <th></th>\n",
       "      <th></th>\n",
       "      <th></th>\n",
       "      <th></th>\n",
       "      <th></th>\n",
       "      <th></th>\n",
       "      <th></th>\n",
       "      <th></th>\n",
       "      <th></th>\n",
       "    </tr>\n",
       "  </thead>\n",
       "  <tbody>\n",
       "    <tr>\n",
       "      <th>1000231066</th>\n",
       "      <td>Rekka</td>\n",
       "      <td>Known for helping girls in getting out of unwa...</td>\n",
       "      <td>Action</td>\n",
       "      <td>2016</td>\n",
       "      <td>U/A 13+</td>\n",
       "      <td>114.0</td>\n",
       "      <td>NaN</td>\n",
       "      <td>NaN</td>\n",
       "      <td>movie</td>\n",
       "    </tr>\n",
       "    <tr>\n",
       "      <th>1260059119</th>\n",
       "      <td>Hamara Bar Happy Hour</td>\n",
       "      <td>Failed actors and friends Pari, Gulshan, Shiva...</td>\n",
       "      <td>Comedy</td>\n",
       "      <td>2021</td>\n",
       "      <td>U/A 16+</td>\n",
       "      <td>NaN</td>\n",
       "      <td>1.0</td>\n",
       "      <td>8.0</td>\n",
       "      <td>tv</td>\n",
       "    </tr>\n",
       "    <tr>\n",
       "      <th>1000098151</th>\n",
       "      <td>Shodha</td>\n",
       "      <td>As part of a study tour, a group of college st...</td>\n",
       "      <td>Drama</td>\n",
       "      <td>2009</td>\n",
       "      <td>U/A 13+</td>\n",
       "      <td>113.0</td>\n",
       "      <td>NaN</td>\n",
       "      <td>NaN</td>\n",
       "      <td>movie</td>\n",
       "    </tr>\n",
       "    <tr>\n",
       "      <th>1770000953</th>\n",
       "      <td>Aliens</td>\n",
       "      <td>After surviving an apocalyptic attack aboard h...</td>\n",
       "      <td>Action</td>\n",
       "      <td>1986</td>\n",
       "      <td>A</td>\n",
       "      <td>137.0</td>\n",
       "      <td>NaN</td>\n",
       "      <td>NaN</td>\n",
       "      <td>movie</td>\n",
       "    </tr>\n",
       "    <tr>\n",
       "      <th>1000108836</th>\n",
       "      <td>Arakkallan Mukkalkkallan</td>\n",
       "      <td>Naagan and Aruvikkara Thampy are sworn enemies...</td>\n",
       "      <td>Thriller</td>\n",
       "      <td>1974</td>\n",
       "      <td>U</td>\n",
       "      <td>152.0</td>\n",
       "      <td>NaN</td>\n",
       "      <td>NaN</td>\n",
       "      <td>movie</td>\n",
       "    </tr>\n",
       "  </tbody>\n",
       "</table>\n",
       "</div>"
      ],
      "text/plain": [
       "                               title  \\\n",
       "hotstar_id                             \n",
       "1000231066                     Rekka   \n",
       "1260059119     Hamara Bar Happy Hour   \n",
       "1000098151                    Shodha   \n",
       "1770000953                    Aliens   \n",
       "1000108836  Arakkallan Mukkalkkallan   \n",
       "\n",
       "                                                  description     genre  year  \\\n",
       "hotstar_id                                                                      \n",
       "1000231066  Known for helping girls in getting out of unwa...    Action  2016   \n",
       "1260059119  Failed actors and friends Pari, Gulshan, Shiva...    Comedy  2021   \n",
       "1000098151  As part of a study tour, a group of college st...     Drama  2009   \n",
       "1770000953  After surviving an apocalyptic attack aboard h...    Action  1986   \n",
       "1000108836  Naagan and Aruvikkara Thampy are sworn enemies...  Thriller  1974   \n",
       "\n",
       "           age_rating  running_time  seasons  episodes   type  \n",
       "hotstar_id                                                     \n",
       "1000231066    U/A 13+         114.0      NaN       NaN  movie  \n",
       "1260059119    U/A 16+           NaN      1.0       8.0     tv  \n",
       "1000098151    U/A 13+         113.0      NaN       NaN  movie  \n",
       "1770000953          A         137.0      NaN       NaN  movie  \n",
       "1000108836          U         152.0      NaN       NaN  movie  "
      ]
     },
     "execution_count": 4,
     "metadata": {},
     "output_type": "execute_result"
    }
   ],
   "source": [
    "data.set_index(\"hotstar_id\",inplace=True)\n",
    "data.head()\n"
   ]
  },
  {
   "cell_type": "code",
   "execution_count": 8,
   "id": "66c41a6f",
   "metadata": {},
   "outputs": [
    {
     "data": {
      "text/html": [
       "<div>\n",
       "<style scoped>\n",
       "    .dataframe tbody tr th:only-of-type {\n",
       "        vertical-align: middle;\n",
       "    }\n",
       "\n",
       "    .dataframe tbody tr th {\n",
       "        vertical-align: top;\n",
       "    }\n",
       "\n",
       "    .dataframe thead th {\n",
       "        text-align: right;\n",
       "    }\n",
       "</style>\n",
       "<table border=\"1\" class=\"dataframe\">\n",
       "  <thead>\n",
       "    <tr style=\"text-align: right;\">\n",
       "      <th></th>\n",
       "      <th>title</th>\n",
       "      <th>description</th>\n",
       "      <th>genre</th>\n",
       "      <th>year</th>\n",
       "      <th>age_rating</th>\n",
       "      <th>running_time</th>\n",
       "      <th>seasons</th>\n",
       "      <th>episodes</th>\n",
       "      <th>type</th>\n",
       "    </tr>\n",
       "    <tr>\n",
       "      <th>hotstar_id</th>\n",
       "      <th></th>\n",
       "      <th></th>\n",
       "      <th></th>\n",
       "      <th></th>\n",
       "      <th></th>\n",
       "      <th></th>\n",
       "      <th></th>\n",
       "      <th></th>\n",
       "      <th></th>\n",
       "    </tr>\n",
       "  </thead>\n",
       "  <tbody>\n",
       "    <tr>\n",
       "      <th>1260006653</th>\n",
       "      <td>Alaska's Grizzly Gauntlet</td>\n",
       "      <td>Survival expert Les Stroud explores the formid...</td>\n",
       "      <td>Animals &amp; Nature</td>\n",
       "      <td>2019</td>\n",
       "      <td>U/A 7+</td>\n",
       "      <td>NaN</td>\n",
       "      <td>1.0</td>\n",
       "      <td>4.0</td>\n",
       "      <td>tv</td>\n",
       "    </tr>\n",
       "    <tr>\n",
       "      <th>1260047835</th>\n",
       "      <td>Sarasu</td>\n",
       "      <td>Saraswathi, aka Sarasu, is a bright student wh...</td>\n",
       "      <td>Drama</td>\n",
       "      <td>2020</td>\n",
       "      <td>U/A 13+</td>\n",
       "      <td>NaN</td>\n",
       "      <td>1.0</td>\n",
       "      <td>208.0</td>\n",
       "      <td>tv</td>\n",
       "    </tr>\n",
       "    <tr>\n",
       "      <th>1770021374</th>\n",
       "      <td>Ice On Fire</td>\n",
       "      <td>Ice on Fire is an eye-opening documentary that...</td>\n",
       "      <td>Documentary</td>\n",
       "      <td>2019</td>\n",
       "      <td>U/A 7+</td>\n",
       "      <td>97.0</td>\n",
       "      <td>NaN</td>\n",
       "      <td>NaN</td>\n",
       "      <td>movie</td>\n",
       "    </tr>\n",
       "    <tr>\n",
       "      <th>1000101009</th>\n",
       "      <td>Iruvattam Manavatti</td>\n",
       "      <td>While on election duty in Kannur, a veterinary...</td>\n",
       "      <td>Romance</td>\n",
       "      <td>2005</td>\n",
       "      <td>U/A 13+</td>\n",
       "      <td>142.0</td>\n",
       "      <td>NaN</td>\n",
       "      <td>NaN</td>\n",
       "      <td>movie</td>\n",
       "    </tr>\n",
       "    <tr>\n",
       "      <th>1610005613</th>\n",
       "      <td>3rd Wedding Anniversary</td>\n",
       "      <td>Everything seems to be hunky-dory in their mar...</td>\n",
       "      <td>Thriller</td>\n",
       "      <td>2018</td>\n",
       "      <td>U/A 16+</td>\n",
       "      <td>16.0</td>\n",
       "      <td>NaN</td>\n",
       "      <td>NaN</td>\n",
       "      <td>movie</td>\n",
       "    </tr>\n",
       "  </tbody>\n",
       "</table>\n",
       "</div>"
      ],
      "text/plain": [
       "                                title  \\\n",
       "hotstar_id                              \n",
       "1260006653  Alaska's Grizzly Gauntlet   \n",
       "1260047835                     Sarasu   \n",
       "1770021374                Ice On Fire   \n",
       "1000101009        Iruvattam Manavatti   \n",
       "1610005613    3rd Wedding Anniversary   \n",
       "\n",
       "                                                  description  \\\n",
       "hotstar_id                                                      \n",
       "1260006653  Survival expert Les Stroud explores the formid...   \n",
       "1260047835  Saraswathi, aka Sarasu, is a bright student wh...   \n",
       "1770021374  Ice on Fire is an eye-opening documentary that...   \n",
       "1000101009  While on election duty in Kannur, a veterinary...   \n",
       "1610005613  Everything seems to be hunky-dory in their mar...   \n",
       "\n",
       "                       genre  year age_rating  running_time  seasons  \\\n",
       "hotstar_id                                                             \n",
       "1260006653  Animals & Nature  2019     U/A 7+           NaN      1.0   \n",
       "1260047835             Drama  2020    U/A 13+           NaN      1.0   \n",
       "1770021374       Documentary  2019     U/A 7+          97.0      NaN   \n",
       "1000101009           Romance  2005    U/A 13+         142.0      NaN   \n",
       "1610005613          Thriller  2018    U/A 16+          16.0      NaN   \n",
       "\n",
       "            episodes   type  \n",
       "hotstar_id                   \n",
       "1260006653       4.0     tv  \n",
       "1260047835     208.0     tv  \n",
       "1770021374       NaN  movie  \n",
       "1000101009       NaN  movie  \n",
       "1610005613       NaN  movie  "
      ]
     },
     "execution_count": 8,
     "metadata": {},
     "output_type": "execute_result"
    }
   ],
   "source": [
    "#getting last 5 rows of the dataset \n",
    "data.tail()"
   ]
  },
  {
   "cell_type": "code",
   "execution_count": 9,
   "id": "46d898e0",
   "metadata": {},
   "outputs": [
    {
     "data": {
      "text/html": [
       "<div>\n",
       "<style scoped>\n",
       "    .dataframe tbody tr th:only-of-type {\n",
       "        vertical-align: middle;\n",
       "    }\n",
       "\n",
       "    .dataframe tbody tr th {\n",
       "        vertical-align: top;\n",
       "    }\n",
       "\n",
       "    .dataframe thead th {\n",
       "        text-align: right;\n",
       "    }\n",
       "</style>\n",
       "<table border=\"1\" class=\"dataframe\">\n",
       "  <thead>\n",
       "    <tr style=\"text-align: right;\">\n",
       "      <th></th>\n",
       "      <th>year</th>\n",
       "      <th>running_time</th>\n",
       "      <th>seasons</th>\n",
       "      <th>episodes</th>\n",
       "    </tr>\n",
       "  </thead>\n",
       "  <tbody>\n",
       "    <tr>\n",
       "      <th>count</th>\n",
       "      <td>6245.000000</td>\n",
       "      <td>4128.000000</td>\n",
       "      <td>2117.000000</td>\n",
       "      <td>2117.000000</td>\n",
       "    </tr>\n",
       "    <tr>\n",
       "      <th>mean</th>\n",
       "      <td>2010.900721</td>\n",
       "      <td>104.113130</td>\n",
       "      <td>2.689655</td>\n",
       "      <td>124.507322</td>\n",
       "    </tr>\n",
       "    <tr>\n",
       "      <th>std</th>\n",
       "      <td>12.131899</td>\n",
       "      <td>46.045363</td>\n",
       "      <td>5.009118</td>\n",
       "      <td>253.966973</td>\n",
       "    </tr>\n",
       "    <tr>\n",
       "      <th>min</th>\n",
       "      <td>1928.000000</td>\n",
       "      <td>1.000000</td>\n",
       "      <td>1.000000</td>\n",
       "      <td>1.000000</td>\n",
       "    </tr>\n",
       "    <tr>\n",
       "      <th>25%</th>\n",
       "      <td>2008.000000</td>\n",
       "      <td>88.000000</td>\n",
       "      <td>1.000000</td>\n",
       "      <td>6.000000</td>\n",
       "    </tr>\n",
       "    <tr>\n",
       "      <th>50%</th>\n",
       "      <td>2015.000000</td>\n",
       "      <td>119.000000</td>\n",
       "      <td>1.000000</td>\n",
       "      <td>22.000000</td>\n",
       "    </tr>\n",
       "    <tr>\n",
       "      <th>75%</th>\n",
       "      <td>2019.000000</td>\n",
       "      <td>136.250000</td>\n",
       "      <td>2.000000</td>\n",
       "      <td>126.000000</td>\n",
       "    </tr>\n",
       "    <tr>\n",
       "      <th>max</th>\n",
       "      <td>2022.000000</td>\n",
       "      <td>199.000000</td>\n",
       "      <td>73.000000</td>\n",
       "      <td>3786.000000</td>\n",
       "    </tr>\n",
       "  </tbody>\n",
       "</table>\n",
       "</div>"
      ],
      "text/plain": [
       "              year  running_time      seasons     episodes\n",
       "count  6245.000000   4128.000000  2117.000000  2117.000000\n",
       "mean   2010.900721    104.113130     2.689655   124.507322\n",
       "std      12.131899     46.045363     5.009118   253.966973\n",
       "min    1928.000000      1.000000     1.000000     1.000000\n",
       "25%    2008.000000     88.000000     1.000000     6.000000\n",
       "50%    2015.000000    119.000000     1.000000    22.000000\n",
       "75%    2019.000000    136.250000     2.000000   126.000000\n",
       "max    2022.000000    199.000000    73.000000  3786.000000"
      ]
     },
     "execution_count": 9,
     "metadata": {},
     "output_type": "execute_result"
    }
   ],
   "source": [
    "#getting statistical data using describe \n",
    "data.describe()"
   ]
  },
  {
   "cell_type": "code",
   "execution_count": 10,
   "id": "45a89ee2",
   "metadata": {},
   "outputs": [
    {
     "data": {
      "text/plain": [
       "(6245, 9)"
      ]
     },
     "execution_count": 10,
     "metadata": {},
     "output_type": "execute_result"
    }
   ],
   "source": [
    "#finding number of rows and number of columns present in the data set using shape\n",
    "data.shape"
   ]
  },
  {
   "cell_type": "code",
   "execution_count": 11,
   "id": "ba6852ed",
   "metadata": {},
   "outputs": [
    {
     "name": "stdout",
     "output_type": "stream",
     "text": [
      "<class 'pandas.core.frame.DataFrame'>\n",
      "Int64Index: 6245 entries, 1000231066 to 1610005613\n",
      "Data columns (total 9 columns):\n",
      " #   Column        Non-Null Count  Dtype  \n",
      "---  ------        --------------  -----  \n",
      " 0   title         6245 non-null   object \n",
      " 1   description   6245 non-null   object \n",
      " 2   genre         6245 non-null   object \n",
      " 3   year          6245 non-null   int64  \n",
      " 4   age_rating    6245 non-null   object \n",
      " 5   running_time  4128 non-null   float64\n",
      " 6   seasons       2117 non-null   float64\n",
      " 7   episodes      2117 non-null   float64\n",
      " 8   type          6245 non-null   object \n",
      "dtypes: float64(3), int64(1), object(5)\n",
      "memory usage: 487.9+ KB\n"
     ]
    }
   ],
   "source": [
    "#finding information using data.info()\n",
    "data.info()"
   ]
  },
  {
   "cell_type": "code",
   "execution_count": 12,
   "id": "9972b8dd",
   "metadata": {},
   "outputs": [
    {
     "data": {
      "text/plain": [
       "title            object\n",
       "description      object\n",
       "genre            object\n",
       "year              int64\n",
       "age_rating       object\n",
       "running_time    float64\n",
       "seasons         float64\n",
       "episodes        float64\n",
       "type             object\n",
       "dtype: object"
      ]
     },
     "execution_count": 12,
     "metadata": {},
     "output_type": "execute_result"
    }
   ],
   "source": [
    "#finding which type of datasets are there in the data set using dtypes\n",
    "data.dtypes\n"
   ]
  },
  {
   "cell_type": "markdown",
   "id": "648a507d",
   "metadata": {},
   "source": [
    "## Data Cleaning"
   ]
  },
  {
   "cell_type": "markdown",
   "id": "6ee90efe",
   "metadata": {},
   "source": [
    "###### In statistics, missing data, or missing values, occur when no data value is stored for the variable in an observation."
   ]
  },
  {
   "cell_type": "markdown",
   "id": "c59c6cc9",
   "metadata": {},
   "source": [
    "## Filling null values by finding mean mode and median value of respective columns\n"
   ]
  },
  {
   "cell_type": "code",
   "execution_count": 13,
   "id": "20d2cd98",
   "metadata": {},
   "outputs": [
    {
     "data": {
      "text/plain": [
       "array([nan,  1.,  5.,  2.,  3., 14., 13., 12., 33.,  7.,  6.,  9.,  4.,\n",
       "       11., 10., 15., 23., 18., 25., 24., 19., 17., 27.,  8., 22., 43.,\n",
       "       45., 31., 35., 34., 28., 16., 67., 38., 53., 21., 30., 26., 36.,\n",
       "       29., 73.])"
      ]
     },
     "execution_count": 13,
     "metadata": {},
     "output_type": "execute_result"
    }
   ],
   "source": [
    "# finding unique values in seasons column\n",
    "data.seasons.unique()"
   ]
  },
  {
   "cell_type": "code",
   "execution_count": 14,
   "id": "2da81a29",
   "metadata": {},
   "outputs": [
    {
     "data": {
      "text/plain": [
       "array(['movie', 'tv'], dtype=object)"
      ]
     },
     "execution_count": 14,
     "metadata": {},
     "output_type": "execute_result"
    }
   ],
   "source": [
    "# finding unique values in type column\n",
    "data.type.unique()"
   ]
  },
  {
   "cell_type": "code",
   "execution_count": 15,
   "id": "6375c543",
   "metadata": {},
   "outputs": [
    {
     "data": {
      "text/plain": [
       "array(['Action', 'Comedy', 'Drama', 'Thriller', 'Reality', 'Travel',\n",
       "       'Talk Show', 'Musical', 'Romance', 'Sport', 'Documentary',\n",
       "       'Family', 'Kids', 'Crime', 'Teen', 'Animation', 'Lifestyle',\n",
       "       'Standup Comedy', 'Mythology', 'Superhero', 'Science Fiction',\n",
       "       'Adventure', 'Animals & Nature', 'Biopic', 'Awards', 'Horror',\n",
       "       'Concert Film', 'Food', 'Science', 'Fantasy', 'Historical',\n",
       "       'Shorts', 'Mystery', 'Docudrama'], dtype=object)"
      ]
     },
     "execution_count": 15,
     "metadata": {},
     "output_type": "execute_result"
    }
   ],
   "source": [
    "# finding unique values in genre column\n",
    "data.genre.unique()"
   ]
  },
  {
   "cell_type": "code",
   "execution_count": 16,
   "id": "976ab410",
   "metadata": {},
   "outputs": [
    {
     "data": {
      "text/plain": [
       "array(['U/A 13+', 'U/A 16+', 'A', 'U', '12+', 'PG', 'U/A 7+', 'English',\n",
       "       'G', 'Tamil', '15+', 'Kannada', 'Telugu', 'Marathi', 'Hindi'],\n",
       "      dtype=object)"
      ]
     },
     "execution_count": 16,
     "metadata": {},
     "output_type": "execute_result"
    }
   ],
   "source": [
    "# finding unique values in age_rating column\n",
    "data.age_rating.unique()"
   ]
  },
  {
   "cell_type": "markdown",
   "id": "6532fe37",
   "metadata": {},
   "source": [
    "###### *we can see that there is languages in rating column like english, telugu kannada etc.\n",
    "###### *since it is not recommended we have to remove or drop those languages from the rating column"
   ]
  },
  {
   "cell_type": "code",
   "execution_count": 17,
   "id": "5b4c7a3f",
   "metadata": {},
   "outputs": [],
   "source": [
    "# dropping languages from the age_rating column\n",
    "data.drop(data.index[data['age_rating'] == 'English'], inplace=True)\n",
    "data.drop(data.index[data['age_rating'] == 'Kannada'], inplace=True)\n",
    "data.drop(data.index[data['age_rating'] == 'Tamil'], inplace=True)\n",
    "data.drop(data.index[data['age_rating'] == 'Telugu'], inplace=True)\n",
    "data.drop(data.index[data['age_rating'] == 'Hindi'], inplace=True)\n",
    "data.drop(data.index[data['age_rating'] == 'Marathi'], inplace=True)"
   ]
  },
  {
   "cell_type": "code",
   "execution_count": 18,
   "id": "93ab80b0",
   "metadata": {},
   "outputs": [
    {
     "data": {
      "text/plain": [
       "array(['U/A 13+', 'U/A 16+', 'A', 'U', '12+', 'PG', 'U/A 7+', 'G', '15+'],\n",
       "      dtype=object)"
      ]
     },
     "execution_count": 18,
     "metadata": {},
     "output_type": "execute_result"
    }
   ],
   "source": [
    "data.age_rating.unique()"
   ]
  },
  {
   "cell_type": "code",
   "execution_count": 19,
   "id": "910bf33c",
   "metadata": {},
   "outputs": [
    {
     "data": {
      "text/html": [
       "<div>\n",
       "<style scoped>\n",
       "    .dataframe tbody tr th:only-of-type {\n",
       "        vertical-align: middle;\n",
       "    }\n",
       "\n",
       "    .dataframe tbody tr th {\n",
       "        vertical-align: top;\n",
       "    }\n",
       "\n",
       "    .dataframe thead th {\n",
       "        text-align: right;\n",
       "    }\n",
       "</style>\n",
       "<table border=\"1\" class=\"dataframe\">\n",
       "  <thead>\n",
       "    <tr style=\"text-align: right;\">\n",
       "      <th></th>\n",
       "      <th>title</th>\n",
       "      <th>description</th>\n",
       "      <th>genre</th>\n",
       "      <th>year</th>\n",
       "      <th>age_rating</th>\n",
       "      <th>running_time</th>\n",
       "      <th>seasons</th>\n",
       "      <th>episodes</th>\n",
       "      <th>type</th>\n",
       "    </tr>\n",
       "    <tr>\n",
       "      <th>hotstar_id</th>\n",
       "      <th></th>\n",
       "      <th></th>\n",
       "      <th></th>\n",
       "      <th></th>\n",
       "      <th></th>\n",
       "      <th></th>\n",
       "      <th></th>\n",
       "      <th></th>\n",
       "      <th></th>\n",
       "    </tr>\n",
       "  </thead>\n",
       "  <tbody>\n",
       "    <tr>\n",
       "      <th>1000231066</th>\n",
       "      <td>False</td>\n",
       "      <td>False</td>\n",
       "      <td>False</td>\n",
       "      <td>False</td>\n",
       "      <td>False</td>\n",
       "      <td>False</td>\n",
       "      <td>True</td>\n",
       "      <td>True</td>\n",
       "      <td>False</td>\n",
       "    </tr>\n",
       "    <tr>\n",
       "      <th>1260059119</th>\n",
       "      <td>False</td>\n",
       "      <td>False</td>\n",
       "      <td>False</td>\n",
       "      <td>False</td>\n",
       "      <td>False</td>\n",
       "      <td>True</td>\n",
       "      <td>False</td>\n",
       "      <td>False</td>\n",
       "      <td>False</td>\n",
       "    </tr>\n",
       "    <tr>\n",
       "      <th>1000098151</th>\n",
       "      <td>False</td>\n",
       "      <td>False</td>\n",
       "      <td>False</td>\n",
       "      <td>False</td>\n",
       "      <td>False</td>\n",
       "      <td>False</td>\n",
       "      <td>True</td>\n",
       "      <td>True</td>\n",
       "      <td>False</td>\n",
       "    </tr>\n",
       "    <tr>\n",
       "      <th>1770000953</th>\n",
       "      <td>False</td>\n",
       "      <td>False</td>\n",
       "      <td>False</td>\n",
       "      <td>False</td>\n",
       "      <td>False</td>\n",
       "      <td>False</td>\n",
       "      <td>True</td>\n",
       "      <td>True</td>\n",
       "      <td>False</td>\n",
       "    </tr>\n",
       "    <tr>\n",
       "      <th>1000108836</th>\n",
       "      <td>False</td>\n",
       "      <td>False</td>\n",
       "      <td>False</td>\n",
       "      <td>False</td>\n",
       "      <td>False</td>\n",
       "      <td>False</td>\n",
       "      <td>True</td>\n",
       "      <td>True</td>\n",
       "      <td>False</td>\n",
       "    </tr>\n",
       "    <tr>\n",
       "      <th>...</th>\n",
       "      <td>...</td>\n",
       "      <td>...</td>\n",
       "      <td>...</td>\n",
       "      <td>...</td>\n",
       "      <td>...</td>\n",
       "      <td>...</td>\n",
       "      <td>...</td>\n",
       "      <td>...</td>\n",
       "      <td>...</td>\n",
       "    </tr>\n",
       "    <tr>\n",
       "      <th>1260006653</th>\n",
       "      <td>False</td>\n",
       "      <td>False</td>\n",
       "      <td>False</td>\n",
       "      <td>False</td>\n",
       "      <td>False</td>\n",
       "      <td>True</td>\n",
       "      <td>False</td>\n",
       "      <td>False</td>\n",
       "      <td>False</td>\n",
       "    </tr>\n",
       "    <tr>\n",
       "      <th>1260047835</th>\n",
       "      <td>False</td>\n",
       "      <td>False</td>\n",
       "      <td>False</td>\n",
       "      <td>False</td>\n",
       "      <td>False</td>\n",
       "      <td>True</td>\n",
       "      <td>False</td>\n",
       "      <td>False</td>\n",
       "      <td>False</td>\n",
       "    </tr>\n",
       "    <tr>\n",
       "      <th>1770021374</th>\n",
       "      <td>False</td>\n",
       "      <td>False</td>\n",
       "      <td>False</td>\n",
       "      <td>False</td>\n",
       "      <td>False</td>\n",
       "      <td>False</td>\n",
       "      <td>True</td>\n",
       "      <td>True</td>\n",
       "      <td>False</td>\n",
       "    </tr>\n",
       "    <tr>\n",
       "      <th>1000101009</th>\n",
       "      <td>False</td>\n",
       "      <td>False</td>\n",
       "      <td>False</td>\n",
       "      <td>False</td>\n",
       "      <td>False</td>\n",
       "      <td>False</td>\n",
       "      <td>True</td>\n",
       "      <td>True</td>\n",
       "      <td>False</td>\n",
       "    </tr>\n",
       "    <tr>\n",
       "      <th>1610005613</th>\n",
       "      <td>False</td>\n",
       "      <td>False</td>\n",
       "      <td>False</td>\n",
       "      <td>False</td>\n",
       "      <td>False</td>\n",
       "      <td>False</td>\n",
       "      <td>True</td>\n",
       "      <td>True</td>\n",
       "      <td>False</td>\n",
       "    </tr>\n",
       "  </tbody>\n",
       "</table>\n",
       "<p>6222 rows × 9 columns</p>\n",
       "</div>"
      ],
      "text/plain": [
       "            title  description  genre   year  age_rating  running_time  \\\n",
       "hotstar_id                                                               \n",
       "1000231066  False        False  False  False       False         False   \n",
       "1260059119  False        False  False  False       False          True   \n",
       "1000098151  False        False  False  False       False         False   \n",
       "1770000953  False        False  False  False       False         False   \n",
       "1000108836  False        False  False  False       False         False   \n",
       "...           ...          ...    ...    ...         ...           ...   \n",
       "1260006653  False        False  False  False       False          True   \n",
       "1260047835  False        False  False  False       False          True   \n",
       "1770021374  False        False  False  False       False         False   \n",
       "1000101009  False        False  False  False       False         False   \n",
       "1610005613  False        False  False  False       False         False   \n",
       "\n",
       "            seasons  episodes   type  \n",
       "hotstar_id                            \n",
       "1000231066     True      True  False  \n",
       "1260059119    False     False  False  \n",
       "1000098151     True      True  False  \n",
       "1770000953     True      True  False  \n",
       "1000108836     True      True  False  \n",
       "...             ...       ...    ...  \n",
       "1260006653    False     False  False  \n",
       "1260047835    False     False  False  \n",
       "1770021374     True      True  False  \n",
       "1000101009     True      True  False  \n",
       "1610005613     True      True  False  \n",
       "\n",
       "[6222 rows x 9 columns]"
      ]
     },
     "execution_count": 19,
     "metadata": {},
     "output_type": "execute_result"
    }
   ],
   "source": [
    "#finding null values \n",
    "data.isnull()\n"
   ]
  },
  {
   "cell_type": "code",
   "execution_count": 27,
   "id": "53f1512e",
   "metadata": {},
   "outputs": [
    {
     "data": {
      "text/plain": [
       "title              0\n",
       "description        0\n",
       "genre              0\n",
       "year               0\n",
       "age_rating         0\n",
       "running_time    2094\n",
       "seasons         4128\n",
       "episodes        4128\n",
       "type               0\n",
       "dtype: int64"
      ]
     },
     "execution_count": 27,
     "metadata": {},
     "output_type": "execute_result"
    }
   ],
   "source": [
    "#finding how many null values are there in each column\n",
    "data.isnull().sum()"
   ]
  },
  {
   "cell_type": "code",
   "execution_count": 30,
   "id": "730060bf",
   "metadata": {},
   "outputs": [
    {
     "data": {
      "text/plain": [
       "33.530824659727784"
      ]
     },
     "execution_count": 30,
     "metadata": {},
     "output_type": "execute_result"
    }
   ],
   "source": [
    "#Finding null value percent in running time column\n",
    "(data['running_time'].isnull().sum()/6245)*100"
   ]
  },
  {
   "cell_type": "code",
   "execution_count": 31,
   "id": "09341634",
   "metadata": {},
   "outputs": [
    {
     "data": {
      "text/plain": [
       "66.10088070456365"
      ]
     },
     "execution_count": 31,
     "metadata": {},
     "output_type": "execute_result"
    }
   ],
   "source": [
    "#Finding null value percent in seasons column\n",
    "(data['seasons'].isnull().sum()/6245)*100"
   ]
  },
  {
   "cell_type": "code",
   "execution_count": 32,
   "id": "c5bcb6d0",
   "metadata": {},
   "outputs": [
    {
     "data": {
      "text/plain": [
       "66.10088070456365"
      ]
     },
     "execution_count": 32,
     "metadata": {},
     "output_type": "execute_result"
    }
   ],
   "source": [
    "#Finding null value percent in episodes column\n",
    "(data['episodes'].isnull().sum()/6245)*100"
   ]
  },
  {
   "cell_type": "markdown",
   "id": "9a31bf04",
   "metadata": {},
   "source": [
    "# Handling null values in running_time column"
   ]
  },
  {
   "cell_type": "code",
   "execution_count": 12,
   "id": "83ae6b28",
   "metadata": {},
   "outputs": [],
   "source": [
    "# finding mean value of the column running_time\n",
    "running_timeofx_mean = data.running_time.mean()"
   ]
  },
  {
   "cell_type": "code",
   "execution_count": 13,
   "id": "5cd3b7f2",
   "metadata": {},
   "outputs": [
    {
     "name": "stdout",
     "output_type": "stream",
     "text": [
      "104.11312984496124\n"
     ]
    }
   ],
   "source": [
    "print(running_timeofx_mean)"
   ]
  },
  {
   "cell_type": "code",
   "execution_count": 14,
   "id": "e46c1222",
   "metadata": {},
   "outputs": [],
   "source": [
    "#filling null values of the column running_time with mean value\n",
    "data.running_time.fillna(running_timeofx_mean ,inplace=True)"
   ]
  },
  {
   "cell_type": "code",
   "execution_count": 15,
   "id": "96208641",
   "metadata": {},
   "outputs": [
    {
     "data": {
      "text/plain": [
       "hotstar_id         0\n",
       "title              0\n",
       "description        0\n",
       "genre              0\n",
       "year               0\n",
       "age_rating         0\n",
       "running_time       0\n",
       "seasons         4128\n",
       "episodes        4128\n",
       "type               0\n",
       "dtype: int64"
      ]
     },
     "execution_count": 15,
     "metadata": {},
     "output_type": "execute_result"
    }
   ],
   "source": [
    "# Checking weather the data set got filled with the mean values or not \n",
    "data.isnull().sum()"
   ]
  },
  {
   "cell_type": "markdown",
   "id": "544f2de4",
   "metadata": {},
   "source": [
    "##### *we can see that the null values of the columns running_time is showing '0'\n",
    "##### *This shows that we have sucessfully replaced null values\n",
    "## since null values in seasons and episodes column is high we have to drop them as it effects the data"
   ]
  },
  {
   "cell_type": "code",
   "execution_count": 16,
   "id": "895169c4",
   "metadata": {},
   "outputs": [
    {
     "data": {
      "text/html": [
       "<div>\n",
       "<style scoped>\n",
       "    .dataframe tbody tr th:only-of-type {\n",
       "        vertical-align: middle;\n",
       "    }\n",
       "\n",
       "    .dataframe tbody tr th {\n",
       "        vertical-align: top;\n",
       "    }\n",
       "\n",
       "    .dataframe thead th {\n",
       "        text-align: right;\n",
       "    }\n",
       "</style>\n",
       "<table border=\"1\" class=\"dataframe\">\n",
       "  <thead>\n",
       "    <tr style=\"text-align: right;\">\n",
       "      <th></th>\n",
       "      <th>hotstar_id</th>\n",
       "      <th>title</th>\n",
       "      <th>description</th>\n",
       "      <th>genre</th>\n",
       "      <th>year</th>\n",
       "      <th>age_rating</th>\n",
       "      <th>running_time</th>\n",
       "      <th>type</th>\n",
       "    </tr>\n",
       "  </thead>\n",
       "  <tbody>\n",
       "    <tr>\n",
       "      <th>0</th>\n",
       "      <td>1000231066</td>\n",
       "      <td>Rekka</td>\n",
       "      <td>Known for helping girls in getting out of unwa...</td>\n",
       "      <td>Action</td>\n",
       "      <td>2016</td>\n",
       "      <td>U/A 13+</td>\n",
       "      <td>114.00000</td>\n",
       "      <td>movie</td>\n",
       "    </tr>\n",
       "    <tr>\n",
       "      <th>1</th>\n",
       "      <td>1260059119</td>\n",
       "      <td>Hamara Bar Happy Hour</td>\n",
       "      <td>Failed actors and friends Pari, Gulshan, Shiva...</td>\n",
       "      <td>Comedy</td>\n",
       "      <td>2021</td>\n",
       "      <td>U/A 16+</td>\n",
       "      <td>104.11313</td>\n",
       "      <td>tv</td>\n",
       "    </tr>\n",
       "    <tr>\n",
       "      <th>2</th>\n",
       "      <td>1000098151</td>\n",
       "      <td>Shodha</td>\n",
       "      <td>As part of a study tour, a group of college st...</td>\n",
       "      <td>Drama</td>\n",
       "      <td>2009</td>\n",
       "      <td>U/A 13+</td>\n",
       "      <td>113.00000</td>\n",
       "      <td>movie</td>\n",
       "    </tr>\n",
       "    <tr>\n",
       "      <th>3</th>\n",
       "      <td>1770000953</td>\n",
       "      <td>Aliens</td>\n",
       "      <td>After surviving an apocalyptic attack aboard h...</td>\n",
       "      <td>Action</td>\n",
       "      <td>1986</td>\n",
       "      <td>A</td>\n",
       "      <td>137.00000</td>\n",
       "      <td>movie</td>\n",
       "    </tr>\n",
       "    <tr>\n",
       "      <th>4</th>\n",
       "      <td>1000108836</td>\n",
       "      <td>Arakkallan Mukkalkkallan</td>\n",
       "      <td>Naagan and Aruvikkara Thampy are sworn enemies...</td>\n",
       "      <td>Thriller</td>\n",
       "      <td>1974</td>\n",
       "      <td>U</td>\n",
       "      <td>152.00000</td>\n",
       "      <td>movie</td>\n",
       "    </tr>\n",
       "  </tbody>\n",
       "</table>\n",
       "</div>"
      ],
      "text/plain": [
       "   hotstar_id                     title  \\\n",
       "0  1000231066                     Rekka   \n",
       "1  1260059119     Hamara Bar Happy Hour   \n",
       "2  1000098151                    Shodha   \n",
       "3  1770000953                    Aliens   \n",
       "4  1000108836  Arakkallan Mukkalkkallan   \n",
       "\n",
       "                                         description     genre  year  \\\n",
       "0  Known for helping girls in getting out of unwa...    Action  2016   \n",
       "1  Failed actors and friends Pari, Gulshan, Shiva...    Comedy  2021   \n",
       "2  As part of a study tour, a group of college st...     Drama  2009   \n",
       "3  After surviving an apocalyptic attack aboard h...    Action  1986   \n",
       "4  Naagan and Aruvikkara Thampy are sworn enemies...  Thriller  1974   \n",
       "\n",
       "  age_rating  running_time   type  \n",
       "0    U/A 13+     114.00000  movie  \n",
       "1    U/A 16+     104.11313     tv  \n",
       "2    U/A 13+     113.00000  movie  \n",
       "3          A     137.00000  movie  \n",
       "4          U     152.00000  movie  "
      ]
     },
     "execution_count": 16,
     "metadata": {},
     "output_type": "execute_result"
    }
   ],
   "source": [
    "data.drop(['seasons','episodes'],axis=1).head()"
   ]
  },
  {
   "cell_type": "markdown",
   "id": "3f200883",
   "metadata": {},
   "source": [
    "#### *thus we have sucessfully dropped seasons and episodes columns"
   ]
  },
  {
   "cell_type": "markdown",
   "id": "13f9812a",
   "metadata": {},
   "source": [
    "# Univariate analysis\n"
   ]
  },
  {
   "cell_type": "markdown",
   "id": "7f62645c",
   "metadata": {},
   "source": [
    "### numerical"
   ]
  },
  {
   "cell_type": "markdown",
   "id": "013f0672",
   "metadata": {},
   "source": [
    "### running_time variable "
   ]
  },
  {
   "cell_type": "code",
   "execution_count": 17,
   "id": "eedcb84b",
   "metadata": {},
   "outputs": [
    {
     "name": "stdout",
     "output_type": "stream",
     "text": [
      "Minimum RT: 1.0\n",
      "Maximum RT: 199.0\n"
     ]
    },
    {
     "data": {
      "image/png": "[encoded data removed]",
      "text/plain": [
       "<Figure size 432x288 with 1 Axes>"
      ]
     },
     "metadata": {
      "needs_background": "light"
     },
     "output_type": "display_data"
    },
    {
     "data": {
      "text/plain": [
       "<Figure size 360x216 with 0 Axes>"
      ]
     },
     "metadata": {},
     "output_type": "display_data"
    }
   ],
   "source": [
    "# histogram = sns.histplot()\n",
    "fig, ax = plt.subplots()\n",
    "sns.histplot(x='running_time',data=data)\n",
    "print(\"Minimum RT:\",data['running_time'].min())\n",
    "print(\"Maximum RT:\",data['running_time'].max())\n",
    "ax.set_xlim(1,199)\n",
    "ax.set_ylim(0,2500)\n",
    "plt.figure(figsize = (5,3))\n",
    "plt.show()"
   ]
  },
  {
   "cell_type": "markdown",
   "id": "c7066cb8",
   "metadata": {},
   "source": [
    "#### we can observe from the histogram is that most of the movies/series/tv shows have running time greater than 100 minutes and most of them have 130 minutes "
   ]
  },
  {
   "cell_type": "code",
   "execution_count": 18,
   "id": "15f249e7",
   "metadata": {},
   "outputs": [
    {
     "data": {
      "text/plain": [
       "<AxesSubplot:xlabel='running_time'>"
      ]
     },
     "execution_count": 18,
     "metadata": {},
     "output_type": "execute_result"
    },
    {
     "data": {
      "image/png": "[encoded data removed]",
      "text/plain": [
       "<Figure size 360x216 with 1 Axes>"
      ]
     },
     "metadata": {
      "needs_background": "light"
     },
     "output_type": "display_data"
    }
   ],
   "source": [
    "#box plot -sns.boxplot()\n",
    "plt.figure(figsize = (5,3))\n",
    "sns.boxplot(x=data['running_time'])\n"
   ]
  },
  {
   "cell_type": "code",
   "execution_count": 19,
   "id": "2d175714",
   "metadata": {},
   "outputs": [
    {
     "data": {
      "text/plain": [
       "0.50    104.11313\n",
       "0.67    120.00000\n",
       "0.79    132.00000\n",
       "0.95    151.00000\n",
       "0.99    165.00000\n",
       "Name: running_time, dtype: float64"
      ]
     },
     "execution_count": 19,
     "metadata": {},
     "output_type": "execute_result"
    }
   ],
   "source": [
    "# data.quantile gives the percentage of specific values\n",
    "data['running_time'].quantile([0.5,0.67,0.79,0.95,0.99]) "
   ]
  },
  {
   "cell_type": "code",
   "execution_count": 33,
   "id": "8674097e",
   "metadata": {},
   "outputs": [
    {
     "data": {
      "text/plain": [
       "104.11312984496124"
      ]
     },
     "execution_count": 33,
     "metadata": {},
     "output_type": "execute_result"
    }
   ],
   "source": [
    "data.running_time.mean()"
   ]
  },
  {
   "cell_type": "code",
   "execution_count": 20,
   "id": "69ddfc0d",
   "metadata": {},
   "outputs": [
    {
     "data": {
      "text/plain": [
       "199.0"
      ]
     },
     "execution_count": 20,
     "metadata": {},
     "output_type": "execute_result"
    }
   ],
   "source": [
    "# finding max value of running_time\n",
    "data.running_time.max()"
   ]
  },
  {
   "cell_type": "code",
   "execution_count": 43,
   "id": "96209cf9",
   "metadata": {},
   "outputs": [],
   "source": [
    "data=data.dropna(subset=['running_time'])"
   ]
  },
  {
   "cell_type": "code",
   "execution_count": 45,
   "id": "6d2772ce",
   "metadata": {},
   "outputs": [],
   "source": [
    "data=data.dropna(subset=['seasons'])"
   ]
  },
  {
   "cell_type": "code",
   "execution_count": null,
   "id": "2476fc91",
   "metadata": {},
   "outputs": [],
   "source": [
    "data=data.dropna(subset=['episodes'])"
   ]
  },
  {
   "cell_type": "code",
   "execution_count": 46,
   "id": "776bc9de",
   "metadata": {},
   "outputs": [
    {
     "data": {
      "text/plain": [
       "title           0.0\n",
       "description     0.0\n",
       "genre           0.0\n",
       "year            0.0\n",
       "age_rating      0.0\n",
       "running_time    0.0\n",
       "seasons         0.0\n",
       "episodes        0.0\n",
       "type            0.0\n",
       "dtype: float64"
      ]
     },
     "execution_count": 46,
     "metadata": {},
     "output_type": "execute_result"
    }
   ],
   "source": [
    "\n",
    "data.isnull().sum()"
   ]
  },
  {
   "cell_type": "markdown",
   "id": "42cc8a2f",
   "metadata": {},
   "source": [
    "### As we can see there is huge difference between 99 percentile and maximum value of the particular column, So by this we can surely say there are outliers in it."
   ]
  },
  {
   "cell_type": "markdown",
   "id": "e3edc70c",
   "metadata": {},
   "source": [
    "# Inter Quartile Range(IQR) Method "
   ]
  },
  {
   "cell_type": "code",
   "execution_count": 21,
   "id": "1cc501d1",
   "metadata": {},
   "outputs": [
    {
     "data": {
      "text/plain": [
       "(104.11312984496124, 129.0)"
      ]
     },
     "execution_count": 21,
     "metadata": {},
     "output_type": "execute_result"
    }
   ],
   "source": [
    "# data.quantile(0.25) gives the 25th percentile of a column\n",
    "# data.quantile(0.75) gives the 75th percentile of a column\n",
    "Q1=data['running_time'].quantile(0.25) \n",
    "Q3=data['running_time'].quantile(0.75) \n",
    "Q1,Q3"
   ]
  },
  {
   "cell_type": "code",
   "execution_count": 22,
   "id": "fc89e587",
   "metadata": {},
   "outputs": [
    {
     "data": {
      "text/plain": [
       "24.886870155038764"
      ]
     },
     "execution_count": 22,
     "metadata": {},
     "output_type": "execute_result"
    }
   ],
   "source": [
    "# IQR = Difference between 75th percentile and 25th percentile\n",
    "IQR = Q3-Q1 \n",
    "IQR\n"
   ]
  },
  {
   "cell_type": "code",
   "execution_count": 23,
   "id": "101b8913",
   "metadata": {},
   "outputs": [
    {
     "data": {
      "text/plain": [
       "(66.78282461240309, 166.33030523255815)"
      ]
     },
     "execution_count": 23,
     "metadata": {},
     "output_type": "execute_result"
    }
   ],
   "source": [
    "# Lower limit and Upper limit to display the dataset without outliers\n",
    "lower_limit = Q1 - 1.5*IQR \n",
    "upper_limit = Q3 + 1.5*IQR\n",
    "lower_limit,upper_limit"
   ]
  },
  {
   "cell_type": "code",
   "execution_count": 24,
   "id": "be62e37d",
   "metadata": {},
   "outputs": [
    {
     "data": {
      "text/html": [
       "<div>\n",
       "<style scoped>\n",
       "    .dataframe tbody tr th:only-of-type {\n",
       "        vertical-align: middle;\n",
       "    }\n",
       "\n",
       "    .dataframe tbody tr th {\n",
       "        vertical-align: top;\n",
       "    }\n",
       "\n",
       "    .dataframe thead th {\n",
       "        text-align: right;\n",
       "    }\n",
       "</style>\n",
       "<table border=\"1\" class=\"dataframe\">\n",
       "  <thead>\n",
       "    <tr style=\"text-align: right;\">\n",
       "      <th></th>\n",
       "      <th>hotstar_id</th>\n",
       "      <th>title</th>\n",
       "      <th>description</th>\n",
       "      <th>genre</th>\n",
       "      <th>year</th>\n",
       "      <th>age_rating</th>\n",
       "      <th>running_time</th>\n",
       "      <th>seasons</th>\n",
       "      <th>episodes</th>\n",
       "      <th>type</th>\n",
       "    </tr>\n",
       "  </thead>\n",
       "  <tbody>\n",
       "    <tr>\n",
       "      <th>0</th>\n",
       "      <td>1000231066</td>\n",
       "      <td>Rekka</td>\n",
       "      <td>Known for helping girls in getting out of unwa...</td>\n",
       "      <td>Action</td>\n",
       "      <td>2016</td>\n",
       "      <td>U/A 13+</td>\n",
       "      <td>114.00000</td>\n",
       "      <td>NaN</td>\n",
       "      <td>NaN</td>\n",
       "      <td>movie</td>\n",
       "    </tr>\n",
       "    <tr>\n",
       "      <th>1</th>\n",
       "      <td>1260059119</td>\n",
       "      <td>Hamara Bar Happy Hour</td>\n",
       "      <td>Failed actors and friends Pari, Gulshan, Shiva...</td>\n",
       "      <td>Comedy</td>\n",
       "      <td>2021</td>\n",
       "      <td>U/A 16+</td>\n",
       "      <td>104.11313</td>\n",
       "      <td>1.0</td>\n",
       "      <td>8.0</td>\n",
       "      <td>tv</td>\n",
       "    </tr>\n",
       "    <tr>\n",
       "      <th>2</th>\n",
       "      <td>1000098151</td>\n",
       "      <td>Shodha</td>\n",
       "      <td>As part of a study tour, a group of college st...</td>\n",
       "      <td>Drama</td>\n",
       "      <td>2009</td>\n",
       "      <td>U/A 13+</td>\n",
       "      <td>113.00000</td>\n",
       "      <td>NaN</td>\n",
       "      <td>NaN</td>\n",
       "      <td>movie</td>\n",
       "    </tr>\n",
       "    <tr>\n",
       "      <th>3</th>\n",
       "      <td>1770000953</td>\n",
       "      <td>Aliens</td>\n",
       "      <td>After surviving an apocalyptic attack aboard h...</td>\n",
       "      <td>Action</td>\n",
       "      <td>1986</td>\n",
       "      <td>A</td>\n",
       "      <td>137.00000</td>\n",
       "      <td>NaN</td>\n",
       "      <td>NaN</td>\n",
       "      <td>movie</td>\n",
       "    </tr>\n",
       "    <tr>\n",
       "      <th>4</th>\n",
       "      <td>1000108836</td>\n",
       "      <td>Arakkallan Mukkalkkallan</td>\n",
       "      <td>Naagan and Aruvikkara Thampy are sworn enemies...</td>\n",
       "      <td>Thriller</td>\n",
       "      <td>1974</td>\n",
       "      <td>U</td>\n",
       "      <td>152.00000</td>\n",
       "      <td>NaN</td>\n",
       "      <td>NaN</td>\n",
       "      <td>movie</td>\n",
       "    </tr>\n",
       "    <tr>\n",
       "      <th>...</th>\n",
       "      <td>...</td>\n",
       "      <td>...</td>\n",
       "      <td>...</td>\n",
       "      <td>...</td>\n",
       "      <td>...</td>\n",
       "      <td>...</td>\n",
       "      <td>...</td>\n",
       "      <td>...</td>\n",
       "      <td>...</td>\n",
       "      <td>...</td>\n",
       "    </tr>\n",
       "    <tr>\n",
       "      <th>6239</th>\n",
       "      <td>14017</td>\n",
       "      <td>Super Voice</td>\n",
       "      <td>Super Voice is a Malayalam music reality show ...</td>\n",
       "      <td>Reality</td>\n",
       "      <td>2017</td>\n",
       "      <td>U</td>\n",
       "      <td>104.11313</td>\n",
       "      <td>1.0</td>\n",
       "      <td>30.0</td>\n",
       "      <td>tv</td>\n",
       "    </tr>\n",
       "    <tr>\n",
       "      <th>6240</th>\n",
       "      <td>1260006653</td>\n",
       "      <td>Alaska's Grizzly Gauntlet</td>\n",
       "      <td>Survival expert Les Stroud explores the formid...</td>\n",
       "      <td>Animals &amp; Nature</td>\n",
       "      <td>2019</td>\n",
       "      <td>U/A 7+</td>\n",
       "      <td>104.11313</td>\n",
       "      <td>1.0</td>\n",
       "      <td>4.0</td>\n",
       "      <td>tv</td>\n",
       "    </tr>\n",
       "    <tr>\n",
       "      <th>6241</th>\n",
       "      <td>1260047835</td>\n",
       "      <td>Sarasu</td>\n",
       "      <td>Saraswathi, aka Sarasu, is a bright student wh...</td>\n",
       "      <td>Drama</td>\n",
       "      <td>2020</td>\n",
       "      <td>U/A 13+</td>\n",
       "      <td>104.11313</td>\n",
       "      <td>1.0</td>\n",
       "      <td>208.0</td>\n",
       "      <td>tv</td>\n",
       "    </tr>\n",
       "    <tr>\n",
       "      <th>6242</th>\n",
       "      <td>1770021374</td>\n",
       "      <td>Ice On Fire</td>\n",
       "      <td>Ice on Fire is an eye-opening documentary that...</td>\n",
       "      <td>Documentary</td>\n",
       "      <td>2019</td>\n",
       "      <td>U/A 7+</td>\n",
       "      <td>97.00000</td>\n",
       "      <td>NaN</td>\n",
       "      <td>NaN</td>\n",
       "      <td>movie</td>\n",
       "    </tr>\n",
       "    <tr>\n",
       "      <th>6243</th>\n",
       "      <td>1000101009</td>\n",
       "      <td>Iruvattam Manavatti</td>\n",
       "      <td>While on election duty in Kannur, a veterinary...</td>\n",
       "      <td>Romance</td>\n",
       "      <td>2005</td>\n",
       "      <td>U/A 13+</td>\n",
       "      <td>142.00000</td>\n",
       "      <td>NaN</td>\n",
       "      <td>NaN</td>\n",
       "      <td>movie</td>\n",
       "    </tr>\n",
       "  </tbody>\n",
       "</table>\n",
       "<p>5377 rows × 10 columns</p>\n",
       "</div>"
      ],
      "text/plain": [
       "      hotstar_id                      title  \\\n",
       "0     1000231066                      Rekka   \n",
       "1     1260059119      Hamara Bar Happy Hour   \n",
       "2     1000098151                     Shodha   \n",
       "3     1770000953                     Aliens   \n",
       "4     1000108836   Arakkallan Mukkalkkallan   \n",
       "...          ...                        ...   \n",
       "6239       14017                Super Voice   \n",
       "6240  1260006653  Alaska's Grizzly Gauntlet   \n",
       "6241  1260047835                     Sarasu   \n",
       "6242  1770021374                Ice On Fire   \n",
       "6243  1000101009        Iruvattam Manavatti   \n",
       "\n",
       "                                            description             genre  \\\n",
       "0     Known for helping girls in getting out of unwa...            Action   \n",
       "1     Failed actors and friends Pari, Gulshan, Shiva...            Comedy   \n",
       "2     As part of a study tour, a group of college st...             Drama   \n",
       "3     After surviving an apocalyptic attack aboard h...            Action   \n",
       "4     Naagan and Aruvikkara Thampy are sworn enemies...          Thriller   \n",
       "...                                                 ...               ...   \n",
       "6239  Super Voice is a Malayalam music reality show ...           Reality   \n",
       "6240  Survival expert Les Stroud explores the formid...  Animals & Nature   \n",
       "6241  Saraswathi, aka Sarasu, is a bright student wh...             Drama   \n",
       "6242  Ice on Fire is an eye-opening documentary that...       Documentary   \n",
       "6243  While on election duty in Kannur, a veterinary...           Romance   \n",
       "\n",
       "      year age_rating  running_time  seasons  episodes   type  \n",
       "0     2016    U/A 13+     114.00000      NaN       NaN  movie  \n",
       "1     2021    U/A 16+     104.11313      1.0       8.0     tv  \n",
       "2     2009    U/A 13+     113.00000      NaN       NaN  movie  \n",
       "3     1986          A     137.00000      NaN       NaN  movie  \n",
       "4     1974          U     152.00000      NaN       NaN  movie  \n",
       "...    ...        ...           ...      ...       ...    ...  \n",
       "6239  2017          U     104.11313      1.0      30.0     tv  \n",
       "6240  2019     U/A 7+     104.11313      1.0       4.0     tv  \n",
       "6241  2020    U/A 13+     104.11313      1.0     208.0     tv  \n",
       "6242  2019     U/A 7+      97.00000      NaN       NaN  movie  \n",
       "6243  2005    U/A 13+     142.00000      NaN       NaN  movie  \n",
       "\n",
       "[5377 rows x 10 columns]"
      ]
     },
     "execution_count": 24,
     "metadata": {},
     "output_type": "execute_result"
    }
   ],
   "source": [
    "# we display the datset without outliers\n",
    "data_no = data[(data['running_time'] > lower_limit) & (data['running_time'] < upper_limit)]\n",
    "data_no"
   ]
  },
  {
   "cell_type": "markdown",
   "id": "aaabaa1c",
   "metadata": {},
   "source": [
    "#### So after applying IQR formula we removed outliers and we displayed the datset with no outliers in running_time column"
   ]
  },
  {
   "cell_type": "markdown",
   "id": "82e4b15a",
   "metadata": {},
   "source": [
    "## So after applying IQR formula we removed outliers and we displayed the datset with no outliers in DiscountedPrice Column "
   ]
  },
  {
   "cell_type": "code",
   "execution_count": 25,
   "id": "e365e771",
   "metadata": {},
   "outputs": [
    {
     "data": {
      "image/png": "[encoded data removed]",
      "text/plain": [
       "<Figure size 432x288 with 1 Axes>"
      ]
     },
     "metadata": {
      "needs_background": "light"
     },
     "output_type": "display_data"
    }
   ],
   "source": [
    "# sns.boxplot gives us the visualization of boxplot\n",
    "sns.boxplot(x='running_time',data=data_no) \n",
    "plt.show()"
   ]
  },
  {
   "cell_type": "markdown",
   "id": "6be35192",
   "metadata": {},
   "source": [
    "#### Now we can clearly see by vissualization there are no outliers present ."
   ]
  },
  {
   "cell_type": "markdown",
   "id": "e4278c42",
   "metadata": {},
   "source": [
    "### year variable"
   ]
  },
  {
   "cell_type": "code",
   "execution_count": 26,
   "id": "930c7e54",
   "metadata": {},
   "outputs": [
    {
     "data": {
      "text/plain": [
       "2019    508\n",
       "2017    502\n",
       "2021    473\n",
       "2018    429\n",
       "2016    410\n",
       "       ... \n",
       "1928      1\n",
       "1958      1\n",
       "1950      1\n",
       "1960      1\n",
       "1942      1\n",
       "Name: year, Length: 77, dtype: int64"
      ]
     },
     "execution_count": 26,
     "metadata": {},
     "output_type": "execute_result"
    }
   ],
   "source": [
    "#counting no of movies were releasedin particular year using value_count()\n",
    "data.year.value_counts()"
   ]
  },
  {
   "cell_type": "markdown",
   "id": "750d3776",
   "metadata": {},
   "source": [
    "##### we can seee that most of the movies or tv shows were released in the year 2019 and only one movie is released in the year 1942,1960,1951,1950,so on."
   ]
  },
  {
   "cell_type": "markdown",
   "id": "6dc89698",
   "metadata": {},
   "source": [
    "#histogram = sns.histplot()\n",
    "fig, ax = plt.subplots()\n",
    "sns.histplot(x='year',data=data)\n",
    "print(\"Minimum yr:\",data['year'].min())\n",
    "print(\"Maximum yr:\",data['year'].max())\n",
    "ax.set_xlim(1928,2022)\n",
    "ax.set_ylim(0,900)\n",
    "plt.figure(figsize = (5,3))\n",
    "plt.show()"
   ]
  },
  {
   "cell_type": "markdown",
   "id": "65c14bed",
   "metadata": {},
   "source": [
    "##### we can seee that most of the movies or tv shows were released in the year 2020 and only one movie is released in the year 1942,1960,1951,1950,so on."
   ]
  },
  {
   "cell_type": "markdown",
   "id": "709682f8",
   "metadata": {},
   "source": [
    "## categorical"
   ]
  },
  {
   "cell_type": "markdown",
   "id": "101ce24a",
   "metadata": {},
   "source": [
    "## type variable"
   ]
  },
  {
   "cell_type": "code",
   "execution_count": 28,
   "id": "6292fb2c",
   "metadata": {},
   "outputs": [
    {
     "data": {
      "image/png": "[encoded data removed]",
      "text/plain": [
       "<Figure size 432x288 with 1 Axes>"
      ]
     },
     "metadata": {
      "needs_background": "light"
     },
     "output_type": "display_data"
    }
   ],
   "source": [
    "# bar graph of type column\n",
    "data.type.value_counts(normalize = True).plot.barh()\n",
    "plt.show()"
   ]
  },
  {
   "cell_type": "code",
   "execution_count": 29,
   "id": "f8163292",
   "metadata": {},
   "outputs": [
    {
     "data": {
      "image/png": "[encoded data removed]",
      "text/plain": [
       "<Figure size 360x288 with 1 Axes>"
      ]
     },
     "metadata": {},
     "output_type": "display_data"
    }
   ],
   "source": [
    "#pie plot of type column\n",
    "plt.figure(figsize = (5,4))\n",
    "data.type.value_counts(normalize=True ).plot.pie()\n",
    "plt.show()"
   ]
  },
  {
   "cell_type": "markdown",
   "id": "7969e651",
   "metadata": {},
   "source": [
    "#### we can observe from the above pie cart of type column is that there are more number of movie type compare to tv type shows"
   ]
  },
  {
   "cell_type": "markdown",
   "id": "7d7e55c5",
   "metadata": {},
   "source": [
    "## genre variable"
   ]
  },
  {
   "cell_type": "code",
   "execution_count": 30,
   "id": "08506c40",
   "metadata": {},
   "outputs": [
    {
     "data": {
      "image/png": "[encoded data removed]",
      "text/plain": [
       "<Figure size 360x720 with 1 Axes>"
      ]
     },
     "metadata": {
      "needs_background": "light"
     },
     "output_type": "display_data"
    }
   ],
   "source": [
    "#bar graph of genre column\n",
    "plt.figure(figsize = (5,10))\n",
    "data.genre.value_counts(normalize = True).plot.barh()\n",
    "plt.show()"
   ]
  },
  {
   "cell_type": "markdown",
   "id": "8403c891",
   "metadata": {},
   "source": [
    "#### from the above bar graph we can see that there are more number of drama genred movies/tv shows are there\n",
    "#### and Comedy,Romance,Action,Reality,Thriller,Family,Sport,Animation genred movies/tv shows are in considerable range\n",
    "#### whene it comes to musical and concert based genres there are very few in number\n",
    "#### movies/ tv shows of Shorts,Travel,Food,Fantasy,Docudrama,Fantasy are on the y-axis line"
   ]
  },
  {
   "cell_type": "markdown",
   "id": "dc9fcef4",
   "metadata": {},
   "source": [
    "## age_ratting variable\n"
   ]
  },
  {
   "cell_type": "code",
   "execution_count": 72,
   "id": "d92295a5",
   "metadata": {},
   "outputs": [
    {
     "data": {
      "image/png": "[encoded data removed]",
      "text/plain": [
       "<Figure size 360x720 with 1 Axes>"
      ]
     },
     "metadata": {
      "needs_background": "light"
     },
     "output_type": "display_data"
    }
   ],
   "source": [
    "# bar graph of age_ratting column\n",
    "plt.figure(figsize = (5,10))\n",
    "data.age_rating.value_counts(normalize = True).plot.barh()\n",
    "plt.show()"
   ]
  },
  {
   "cell_type": "markdown",
   "id": "dd332daa",
   "metadata": {},
   "source": [
    "###### *we can get the insights of bar graph of age_ratting variable is as follows\n",
    "###### *there are more movie/tvshows of U/A13+ ratting which means 13 above aged any person can watch them\n",
    "###### *and there are considrable range of moves/tv shows of U,U/A7+,U/A16+\n",
    "###### *there are adult movies and PG and G movies"
   ]
  },
  {
   "cell_type": "code",
   "execution_count": 5,
   "id": "f98143b6",
   "metadata": {},
   "outputs": [
    {
     "data": {
      "text/plain": [
       "<seaborn.axisgrid.FacetGrid at 0x2cd15c49be0>"
      ]
     },
     "execution_count": 5,
     "metadata": {},
     "output_type": "execute_result"
    },
    {
     "data": {
      "image/png": "[encoded data removed]",
      "text/plain": [
       "<Figure size 360x360 with 1 Axes>"
      ]
     },
     "metadata": {
      "needs_background": "light"
     },
     "output_type": "display_data"
    }
   ],
   "source": [
    "sns.displot(data['running_time'])"
   ]
  },
  {
   "cell_type": "code",
   "execution_count": null,
   "id": "9833a2bc",
   "metadata": {},
   "outputs": [],
   "source": []
  },
  {
   "cell_type": "markdown",
   "id": "d3b50407",
   "metadata": {},
   "source": [
    "# Bivariate Analysis"
   ]
  },
  {
   "cell_type": "markdown",
   "id": "c94ae01b",
   "metadata": {},
   "source": [
    "### Numeric- numeric analysis"
   ]
  },
  {
   "cell_type": "markdown",
   "id": "3a1f8d9b",
   "metadata": {},
   "source": [
    "###### *There are three ways to analyse the numeric- numeric data types simultaneously.\n",
    "###### *Scatter plot: describes the pattern that how one variable is varying with other variable.\n",
    "###### *Correlation matrix: to describe the linearity of two numeric variables.\n",
    "###### *Pair plot: group of scatter plots of all numeric variables in the data frame.\n",
    "###### *from the above scatter plot we can get the insight is that low numbered seasons have low episodes and high numbered seasons have more episodes\n"
   ]
  },
  {
   "cell_type": "markdown",
   "id": "96da537e",
   "metadata": {},
   "source": [
    "## scatter plot: year Vs running time"
   ]
  },
  {
   "cell_type": "code",
   "execution_count": 32,
   "id": "7c1308eb",
   "metadata": {},
   "outputs": [
    {
     "data": {
      "text/plain": [
       "<AxesSubplot:xlabel='year', ylabel='running_time'>"
      ]
     },
     "execution_count": 32,
     "metadata": {},
     "output_type": "execute_result"
    },
    {
     "data": {
      "image/png": "[encoded data removed]",
      "text/plain": [
       "<Figure size 432x288 with 1 Axes>"
      ]
     },
     "metadata": {
      "needs_background": "light"
     },
     "output_type": "display_data"
    }
   ],
   "source": [
    "#sacatter plot of seasons and running_time\n",
    "data.plot.scatter(x='year', y='running_time')\n"
   ]
  },
  {
   "cell_type": "markdown",
   "id": "28b60015",
   "metadata": {},
   "source": [
    "###### *from the above scatter plot we can observe thathighest running time is in the year 2020 and least running time is at before the year 1940\n",
    "###### *and between the years 1940-2020 maximum running time is 150 minutes to 175 minutes\n",
    "###### *from the above scatter plotwe can seee that most of the movies or tv shows were released in the year 2020 and 2022 and only one movie is released in the year 1942,1960,1951,1950,so on.\n",
    "###### *which means there are movies in 21st century than 20th century it is also because of technoolgy improvement in 21st century\n",
    "###### *the running time vs year pair plot shows that the running time increasing with year the running time is more after the year 2010"
   ]
  },
  {
   "cell_type": "markdown",
   "id": "4f05a1b6",
   "metadata": {},
   "source": [
    "# Numerical categorical variable"
   ]
  },
  {
   "cell_type": "markdown",
   "id": "4d843770",
   "metadata": {},
   "source": [
    "###### running_time vs type"
   ]
  },
  {
   "cell_type": "code",
   "execution_count": 33,
   "id": "d7f625ef",
   "metadata": {},
   "outputs": [
    {
     "data": {
      "text/plain": [
       "<AxesSubplot:xlabel='type'>"
      ]
     },
     "execution_count": 33,
     "metadata": {},
     "output_type": "execute_result"
    },
    {
     "data": {
      "image/png": "[encoded data removed]",
      "text/plain": [
       "<Figure size 432x288 with 1 Axes>"
      ]
     },
     "metadata": {
      "needs_background": "light"
     },
     "output_type": "display_data"
    }
   ],
   "source": [
    "# mean bar graph of type and running_time variables\n",
    "data_no.groupby('type')['running_time'].mean().plot.bar()"
   ]
  },
  {
   "cell_type": "markdown",
   "id": "e156dd5a",
   "metadata": {},
   "source": [
    "###### *we can see that the mean of tv shows and movies is same with running time"
   ]
  },
  {
   "cell_type": "code",
   "execution_count": 34,
   "id": "7898e3d6",
   "metadata": {},
   "outputs": [
    {
     "data": {
      "text/plain": [
       "<AxesSubplot:xlabel='running_time', ylabel='Density'>"
      ]
     },
     "execution_count": 34,
     "metadata": {},
     "output_type": "execute_result"
    },
    {
     "data": {
      "image/png": "[encoded data removed]",
      "text/plain": [
       "<Figure size 432x288 with 1 Axes>"
      ]
     },
     "metadata": {
      "needs_background": "light"
     },
     "output_type": "display_data"
    }
   ],
   "source": [
    "#kde plot of running_type vs type\n",
    "sns.kdeplot(x='running_time',data= data_no, hue='type')\n"
   ]
  },
  {
   "cell_type": "markdown",
   "id": "db51c0d2",
   "metadata": {},
   "source": [
    "###### *the desnisty of tv shosis increasing where as the density if movies is constant in the running time kde plot\n"
   ]
  },
  {
   "cell_type": "markdown",
   "id": "db14b9f0",
   "metadata": {},
   "source": [
    "## running_time vs genre\n"
   ]
  },
  {
   "cell_type": "code",
   "execution_count": 35,
   "id": "5711a4b4",
   "metadata": {},
   "outputs": [
    {
     "data": {
      "text/plain": [
       "<AxesSubplot:xlabel='genre'>"
      ]
     },
     "execution_count": 35,
     "metadata": {},
     "output_type": "execute_result"
    },
    {
     "data": {
      "image/png": "[encoded data removed]",
      "text/plain": [
       "<Figure size 432x288 with 1 Axes>"
      ]
     },
     "metadata": {
      "needs_background": "light"
     },
     "output_type": "display_data"
    }
   ],
   "source": [
    "# mean bar graph of type and running_time variables\n",
    "data_no.groupby('genre')['running_time'].mean().plot.bar()"
   ]
  },
  {
   "cell_type": "markdown",
   "id": "5d39a377",
   "metadata": {},
   "source": [
    "###### *from the above runnig_time vs genre bar graph we can see that action movies have highest running time\n",
    "###### *we can see that animation movies and standup comedy have the running time 90 minutes which are least\n",
    "###### *rest all genres have avg runtime of 100 minutes"
   ]
  },
  {
   "cell_type": "markdown",
   "id": "c10d7b71",
   "metadata": {},
   "source": [
    "#  runnig_time vs age_rating\n"
   ]
  },
  {
   "cell_type": "code",
   "execution_count": 36,
   "id": "d88cf299",
   "metadata": {},
   "outputs": [
    {
     "data": {
      "text/plain": [
       "<AxesSubplot:xlabel='age_rating'>"
      ]
     },
     "execution_count": 36,
     "metadata": {},
     "output_type": "execute_result"
    },
    {
     "data": {
      "image/png": "[encoded data removed]",
      "text/plain": [
       "<Figure size 432x288 with 1 Axes>"
      ]
     },
     "metadata": {
      "needs_background": "light"
     },
     "output_type": "display_data"
    }
   ],
   "source": [
    "# mean bar graph of type and running_time variables\n",
    "data_no.groupby('age_rating')['running_time'].mean().plot.bar()"
   ]
  },
  {
   "cell_type": "markdown",
   "id": "20764a50",
   "metadata": {},
   "source": [
    "###### *from the above graph we can see that the running time of the movies age_rated A rated movies or tv shows has less running time compared to other rated movies or tv shows\n",
    "###### *12+,15+ and have highest runnning time time"
   ]
  },
  {
   "cell_type": "markdown",
   "id": "7e83dae3",
   "metadata": {},
   "source": [
    "# year vs age_rating\n"
   ]
  },
  {
   "cell_type": "code",
   "execution_count": 37,
   "id": "9deb7b5b",
   "metadata": {},
   "outputs": [
    {
     "data": {
      "text/plain": [
       "<AxesSubplot:xlabel='age_rating'>"
      ]
     },
     "execution_count": 37,
     "metadata": {},
     "output_type": "execute_result"
    },
    {
     "data": {
      "image/png": "[encoded data removed]",
      "text/plain": [
       "<Figure size 432x288 with 1 Axes>"
      ]
     },
     "metadata": {
      "needs_background": "light"
     },
     "output_type": "display_data"
    }
   ],
   "source": [
    "# mean bar graph of year and age rating variables\n",
    "data.groupby('age_rating')['year'].mean().plot.bar()"
   ]
  },
  {
   "cell_type": "markdown",
   "id": "a196868b",
   "metadata": {},
   "source": [
    "###### we can see that upto 2004 U/A 16 + were relesed later all type of movies or tv shows are releasing\n"
   ]
  },
  {
   "cell_type": "markdown",
   "id": "ce920210",
   "metadata": {},
   "source": [
    "# year Vs genre"
   ]
  },
  {
   "cell_type": "code",
   "execution_count": 38,
   "id": "bc74568c",
   "metadata": {},
   "outputs": [
    {
     "data": {
      "text/plain": [
       "genre\n",
       "Action              2009.970639\n",
       "Adventure           2010.954545\n",
       "Animals & Nature    2019.092437\n",
       "Animation           2004.107981\n",
       "Awards              2018.500000\n",
       "Biopic              2011.585366\n",
       "Comedy              2010.427027\n",
       "Concert Film        2017.500000\n",
       "Crime               2014.089888\n",
       "Docudrama           2013.833333\n",
       "Documentary         2018.034483\n",
       "Drama               2008.545199\n",
       "Family              2005.565574\n",
       "Fantasy             2019.666667\n",
       "Food                2018.833333\n",
       "Historical          2015.121951\n",
       "Horror              2014.189474\n",
       "Kids                2007.581395\n",
       "Lifestyle           2017.961538\n",
       "Musical             2004.266667\n",
       "Mystery             2014.360000\n",
       "Mythology           2013.360000\n",
       "Reality             2018.448649\n",
       "Romance             2009.176373\n",
       "Science             2017.735294\n",
       "Science Fiction     2006.815789\n",
       "Shorts              2021.571429\n",
       "Sport               2018.451737\n",
       "Standup Comedy      2007.882353\n",
       "Superhero           2015.049180\n",
       "Talk Show           2016.810127\n",
       "Teen                2014.033333\n",
       "Thriller            2009.843450\n",
       "Travel              2019.000000\n",
       "Name: year, dtype: float64"
      ]
     },
     "execution_count": 38,
     "metadata": {},
     "output_type": "execute_result"
    }
   ],
   "source": [
    "# mean bar graph of year and genre variables\n",
    "data.groupby('genre')['year'].mean()"
   ]
  },
  {
   "cell_type": "markdown",
   "id": "f35d3b30",
   "metadata": {},
   "source": [
    "# Categorical- Categorical"
   ]
  },
  {
   "cell_type": "code",
   "execution_count": 39,
   "id": "13800091",
   "metadata": {},
   "outputs": [
    {
     "data": {
      "text/html": [
       "<div>\n",
       "<style scoped>\n",
       "    .dataframe tbody tr th:only-of-type {\n",
       "        vertical-align: middle;\n",
       "    }\n",
       "\n",
       "    .dataframe tbody tr th {\n",
       "        vertical-align: top;\n",
       "    }\n",
       "\n",
       "    .dataframe thead th {\n",
       "        text-align: right;\n",
       "    }\n",
       "</style>\n",
       "<table border=\"1\" class=\"dataframe\">\n",
       "  <thead>\n",
       "    <tr style=\"text-align: right;\">\n",
       "      <th>age_rating</th>\n",
       "      <th>12+</th>\n",
       "      <th>15+</th>\n",
       "      <th>A</th>\n",
       "      <th>English</th>\n",
       "      <th>G</th>\n",
       "      <th>Hindi</th>\n",
       "      <th>Kannada</th>\n",
       "      <th>Marathi</th>\n",
       "      <th>PG</th>\n",
       "      <th>Tamil</th>\n",
       "      <th>Telugu</th>\n",
       "      <th>U</th>\n",
       "      <th>U/A 13+</th>\n",
       "      <th>U/A 16+</th>\n",
       "      <th>U/A 7+</th>\n",
       "    </tr>\n",
       "    <tr>\n",
       "      <th>genre</th>\n",
       "      <th></th>\n",
       "      <th></th>\n",
       "      <th></th>\n",
       "      <th></th>\n",
       "      <th></th>\n",
       "      <th></th>\n",
       "      <th></th>\n",
       "      <th></th>\n",
       "      <th></th>\n",
       "      <th></th>\n",
       "      <th></th>\n",
       "      <th></th>\n",
       "      <th></th>\n",
       "      <th></th>\n",
       "      <th></th>\n",
       "    </tr>\n",
       "  </thead>\n",
       "  <tbody>\n",
       "    <tr>\n",
       "      <th>Action</th>\n",
       "      <td>0</td>\n",
       "      <td>0</td>\n",
       "      <td>24</td>\n",
       "      <td>0</td>\n",
       "      <td>0</td>\n",
       "      <td>0</td>\n",
       "      <td>0</td>\n",
       "      <td>0</td>\n",
       "      <td>0</td>\n",
       "      <td>0</td>\n",
       "      <td>0</td>\n",
       "      <td>29</td>\n",
       "      <td>271</td>\n",
       "      <td>201</td>\n",
       "      <td>54</td>\n",
       "    </tr>\n",
       "    <tr>\n",
       "      <th>Adventure</th>\n",
       "      <td>0</td>\n",
       "      <td>0</td>\n",
       "      <td>0</td>\n",
       "      <td>0</td>\n",
       "      <td>0</td>\n",
       "      <td>0</td>\n",
       "      <td>0</td>\n",
       "      <td>0</td>\n",
       "      <td>0</td>\n",
       "      <td>0</td>\n",
       "      <td>0</td>\n",
       "      <td>9</td>\n",
       "      <td>5</td>\n",
       "      <td>0</td>\n",
       "      <td>30</td>\n",
       "    </tr>\n",
       "    <tr>\n",
       "      <th>Animals &amp; Nature</th>\n",
       "      <td>0</td>\n",
       "      <td>0</td>\n",
       "      <td>0</td>\n",
       "      <td>0</td>\n",
       "      <td>0</td>\n",
       "      <td>0</td>\n",
       "      <td>0</td>\n",
       "      <td>0</td>\n",
       "      <td>0</td>\n",
       "      <td>0</td>\n",
       "      <td>0</td>\n",
       "      <td>11</td>\n",
       "      <td>8</td>\n",
       "      <td>0</td>\n",
       "      <td>100</td>\n",
       "    </tr>\n",
       "    <tr>\n",
       "      <th>Animation</th>\n",
       "      <td>0</td>\n",
       "      <td>0</td>\n",
       "      <td>0</td>\n",
       "      <td>0</td>\n",
       "      <td>0</td>\n",
       "      <td>0</td>\n",
       "      <td>0</td>\n",
       "      <td>0</td>\n",
       "      <td>0</td>\n",
       "      <td>0</td>\n",
       "      <td>0</td>\n",
       "      <td>163</td>\n",
       "      <td>3</td>\n",
       "      <td>1</td>\n",
       "      <td>46</td>\n",
       "    </tr>\n",
       "    <tr>\n",
       "      <th>Awards</th>\n",
       "      <td>1</td>\n",
       "      <td>0</td>\n",
       "      <td>0</td>\n",
       "      <td>0</td>\n",
       "      <td>1</td>\n",
       "      <td>0</td>\n",
       "      <td>0</td>\n",
       "      <td>0</td>\n",
       "      <td>1</td>\n",
       "      <td>0</td>\n",
       "      <td>0</td>\n",
       "      <td>3</td>\n",
       "      <td>10</td>\n",
       "      <td>0</td>\n",
       "      <td>10</td>\n",
       "    </tr>\n",
       "    <tr>\n",
       "      <th>Biopic</th>\n",
       "      <td>0</td>\n",
       "      <td>0</td>\n",
       "      <td>4</td>\n",
       "      <td>0</td>\n",
       "      <td>0</td>\n",
       "      <td>0</td>\n",
       "      <td>0</td>\n",
       "      <td>0</td>\n",
       "      <td>0</td>\n",
       "      <td>0</td>\n",
       "      <td>0</td>\n",
       "      <td>9</td>\n",
       "      <td>14</td>\n",
       "      <td>9</td>\n",
       "      <td>5</td>\n",
       "    </tr>\n",
       "    <tr>\n",
       "      <th>Comedy</th>\n",
       "      <td>0</td>\n",
       "      <td>2</td>\n",
       "      <td>40</td>\n",
       "      <td>0</td>\n",
       "      <td>2</td>\n",
       "      <td>0</td>\n",
       "      <td>0</td>\n",
       "      <td>0</td>\n",
       "      <td>5</td>\n",
       "      <td>0</td>\n",
       "      <td>0</td>\n",
       "      <td>113</td>\n",
       "      <td>297</td>\n",
       "      <td>95</td>\n",
       "      <td>186</td>\n",
       "    </tr>\n",
       "    <tr>\n",
       "      <th>Concert Film</th>\n",
       "      <td>0</td>\n",
       "      <td>0</td>\n",
       "      <td>0</td>\n",
       "      <td>0</td>\n",
       "      <td>2</td>\n",
       "      <td>0</td>\n",
       "      <td>0</td>\n",
       "      <td>0</td>\n",
       "      <td>0</td>\n",
       "      <td>0</td>\n",
       "      <td>0</td>\n",
       "      <td>6</td>\n",
       "      <td>1</td>\n",
       "      <td>0</td>\n",
       "      <td>1</td>\n",
       "    </tr>\n",
       "    <tr>\n",
       "      <th>Crime</th>\n",
       "      <td>0</td>\n",
       "      <td>3</td>\n",
       "      <td>11</td>\n",
       "      <td>0</td>\n",
       "      <td>0</td>\n",
       "      <td>0</td>\n",
       "      <td>0</td>\n",
       "      <td>0</td>\n",
       "      <td>0</td>\n",
       "      <td>0</td>\n",
       "      <td>0</td>\n",
       "      <td>1</td>\n",
       "      <td>28</td>\n",
       "      <td>44</td>\n",
       "      <td>2</td>\n",
       "    </tr>\n",
       "    <tr>\n",
       "      <th>Docudrama</th>\n",
       "      <td>0</td>\n",
       "      <td>0</td>\n",
       "      <td>1</td>\n",
       "      <td>0</td>\n",
       "      <td>0</td>\n",
       "      <td>0</td>\n",
       "      <td>0</td>\n",
       "      <td>0</td>\n",
       "      <td>0</td>\n",
       "      <td>0</td>\n",
       "      <td>0</td>\n",
       "      <td>0</td>\n",
       "      <td>3</td>\n",
       "      <td>2</td>\n",
       "      <td>0</td>\n",
       "    </tr>\n",
       "    <tr>\n",
       "      <th>Documentary</th>\n",
       "      <td>0</td>\n",
       "      <td>0</td>\n",
       "      <td>5</td>\n",
       "      <td>0</td>\n",
       "      <td>0</td>\n",
       "      <td>0</td>\n",
       "      <td>0</td>\n",
       "      <td>0</td>\n",
       "      <td>1</td>\n",
       "      <td>0</td>\n",
       "      <td>0</td>\n",
       "      <td>32</td>\n",
       "      <td>43</td>\n",
       "      <td>28</td>\n",
       "      <td>65</td>\n",
       "    </tr>\n",
       "    <tr>\n",
       "      <th>Drama</th>\n",
       "      <td>2</td>\n",
       "      <td>1</td>\n",
       "      <td>81</td>\n",
       "      <td>0</td>\n",
       "      <td>6</td>\n",
       "      <td>0</td>\n",
       "      <td>1</td>\n",
       "      <td>0</td>\n",
       "      <td>25</td>\n",
       "      <td>2</td>\n",
       "      <td>0</td>\n",
       "      <td>263</td>\n",
       "      <td>892</td>\n",
       "      <td>297</td>\n",
       "      <td>211</td>\n",
       "    </tr>\n",
       "    <tr>\n",
       "      <th>Family</th>\n",
       "      <td>1</td>\n",
       "      <td>0</td>\n",
       "      <td>0</td>\n",
       "      <td>0</td>\n",
       "      <td>2</td>\n",
       "      <td>0</td>\n",
       "      <td>0</td>\n",
       "      <td>0</td>\n",
       "      <td>7</td>\n",
       "      <td>0</td>\n",
       "      <td>0</td>\n",
       "      <td>63</td>\n",
       "      <td>103</td>\n",
       "      <td>5</td>\n",
       "      <td>63</td>\n",
       "    </tr>\n",
       "    <tr>\n",
       "      <th>Fantasy</th>\n",
       "      <td>0</td>\n",
       "      <td>0</td>\n",
       "      <td>0</td>\n",
       "      <td>0</td>\n",
       "      <td>0</td>\n",
       "      <td>0</td>\n",
       "      <td>0</td>\n",
       "      <td>0</td>\n",
       "      <td>0</td>\n",
       "      <td>0</td>\n",
       "      <td>0</td>\n",
       "      <td>0</td>\n",
       "      <td>0</td>\n",
       "      <td>0</td>\n",
       "      <td>3</td>\n",
       "    </tr>\n",
       "    <tr>\n",
       "      <th>Food</th>\n",
       "      <td>0</td>\n",
       "      <td>0</td>\n",
       "      <td>0</td>\n",
       "      <td>0</td>\n",
       "      <td>0</td>\n",
       "      <td>0</td>\n",
       "      <td>0</td>\n",
       "      <td>0</td>\n",
       "      <td>0</td>\n",
       "      <td>0</td>\n",
       "      <td>0</td>\n",
       "      <td>1</td>\n",
       "      <td>2</td>\n",
       "      <td>0</td>\n",
       "      <td>3</td>\n",
       "    </tr>\n",
       "    <tr>\n",
       "      <th>Historical</th>\n",
       "      <td>0</td>\n",
       "      <td>0</td>\n",
       "      <td>6</td>\n",
       "      <td>0</td>\n",
       "      <td>0</td>\n",
       "      <td>0</td>\n",
       "      <td>0</td>\n",
       "      <td>0</td>\n",
       "      <td>0</td>\n",
       "      <td>0</td>\n",
       "      <td>0</td>\n",
       "      <td>2</td>\n",
       "      <td>17</td>\n",
       "      <td>13</td>\n",
       "      <td>3</td>\n",
       "    </tr>\n",
       "    <tr>\n",
       "      <th>Horror</th>\n",
       "      <td>0</td>\n",
       "      <td>0</td>\n",
       "      <td>15</td>\n",
       "      <td>0</td>\n",
       "      <td>0</td>\n",
       "      <td>0</td>\n",
       "      <td>0</td>\n",
       "      <td>0</td>\n",
       "      <td>0</td>\n",
       "      <td>0</td>\n",
       "      <td>0</td>\n",
       "      <td>3</td>\n",
       "      <td>32</td>\n",
       "      <td>44</td>\n",
       "      <td>1</td>\n",
       "    </tr>\n",
       "    <tr>\n",
       "      <th>Kids</th>\n",
       "      <td>0</td>\n",
       "      <td>0</td>\n",
       "      <td>0</td>\n",
       "      <td>0</td>\n",
       "      <td>0</td>\n",
       "      <td>0</td>\n",
       "      <td>0</td>\n",
       "      <td>0</td>\n",
       "      <td>0</td>\n",
       "      <td>0</td>\n",
       "      <td>0</td>\n",
       "      <td>22</td>\n",
       "      <td>4</td>\n",
       "      <td>0</td>\n",
       "      <td>17</td>\n",
       "    </tr>\n",
       "    <tr>\n",
       "      <th>Lifestyle</th>\n",
       "      <td>0</td>\n",
       "      <td>0</td>\n",
       "      <td>0</td>\n",
       "      <td>0</td>\n",
       "      <td>2</td>\n",
       "      <td>0</td>\n",
       "      <td>0</td>\n",
       "      <td>0</td>\n",
       "      <td>0</td>\n",
       "      <td>0</td>\n",
       "      <td>0</td>\n",
       "      <td>4</td>\n",
       "      <td>9</td>\n",
       "      <td>0</td>\n",
       "      <td>11</td>\n",
       "    </tr>\n",
       "    <tr>\n",
       "      <th>Musical</th>\n",
       "      <td>0</td>\n",
       "      <td>0</td>\n",
       "      <td>0</td>\n",
       "      <td>0</td>\n",
       "      <td>0</td>\n",
       "      <td>0</td>\n",
       "      <td>0</td>\n",
       "      <td>0</td>\n",
       "      <td>0</td>\n",
       "      <td>0</td>\n",
       "      <td>0</td>\n",
       "      <td>4</td>\n",
       "      <td>2</td>\n",
       "      <td>5</td>\n",
       "      <td>4</td>\n",
       "    </tr>\n",
       "    <tr>\n",
       "      <th>Mystery</th>\n",
       "      <td>0</td>\n",
       "      <td>0</td>\n",
       "      <td>1</td>\n",
       "      <td>0</td>\n",
       "      <td>1</td>\n",
       "      <td>0</td>\n",
       "      <td>0</td>\n",
       "      <td>0</td>\n",
       "      <td>0</td>\n",
       "      <td>0</td>\n",
       "      <td>0</td>\n",
       "      <td>6</td>\n",
       "      <td>8</td>\n",
       "      <td>8</td>\n",
       "      <td>1</td>\n",
       "    </tr>\n",
       "    <tr>\n",
       "      <th>Mythology</th>\n",
       "      <td>2</td>\n",
       "      <td>0</td>\n",
       "      <td>0</td>\n",
       "      <td>0</td>\n",
       "      <td>0</td>\n",
       "      <td>0</td>\n",
       "      <td>0</td>\n",
       "      <td>0</td>\n",
       "      <td>5</td>\n",
       "      <td>0</td>\n",
       "      <td>0</td>\n",
       "      <td>11</td>\n",
       "      <td>48</td>\n",
       "      <td>0</td>\n",
       "      <td>9</td>\n",
       "    </tr>\n",
       "    <tr>\n",
       "      <th>Reality</th>\n",
       "      <td>10</td>\n",
       "      <td>2</td>\n",
       "      <td>0</td>\n",
       "      <td>0</td>\n",
       "      <td>27</td>\n",
       "      <td>0</td>\n",
       "      <td>1</td>\n",
       "      <td>0</td>\n",
       "      <td>36</td>\n",
       "      <td>0</td>\n",
       "      <td>0</td>\n",
       "      <td>70</td>\n",
       "      <td>136</td>\n",
       "      <td>15</td>\n",
       "      <td>73</td>\n",
       "    </tr>\n",
       "    <tr>\n",
       "      <th>Romance</th>\n",
       "      <td>0</td>\n",
       "      <td>1</td>\n",
       "      <td>7</td>\n",
       "      <td>0</td>\n",
       "      <td>2</td>\n",
       "      <td>0</td>\n",
       "      <td>0</td>\n",
       "      <td>0</td>\n",
       "      <td>17</td>\n",
       "      <td>0</td>\n",
       "      <td>0</td>\n",
       "      <td>115</td>\n",
       "      <td>327</td>\n",
       "      <td>67</td>\n",
       "      <td>65</td>\n",
       "    </tr>\n",
       "    <tr>\n",
       "      <th>Science</th>\n",
       "      <td>0</td>\n",
       "      <td>0</td>\n",
       "      <td>0</td>\n",
       "      <td>0</td>\n",
       "      <td>0</td>\n",
       "      <td>0</td>\n",
       "      <td>0</td>\n",
       "      <td>0</td>\n",
       "      <td>0</td>\n",
       "      <td>0</td>\n",
       "      <td>0</td>\n",
       "      <td>1</td>\n",
       "      <td>6</td>\n",
       "      <td>1</td>\n",
       "      <td>26</td>\n",
       "    </tr>\n",
       "    <tr>\n",
       "      <th>Science Fiction</th>\n",
       "      <td>0</td>\n",
       "      <td>0</td>\n",
       "      <td>4</td>\n",
       "      <td>0</td>\n",
       "      <td>0</td>\n",
       "      <td>0</td>\n",
       "      <td>0</td>\n",
       "      <td>0</td>\n",
       "      <td>0</td>\n",
       "      <td>0</td>\n",
       "      <td>0</td>\n",
       "      <td>3</td>\n",
       "      <td>23</td>\n",
       "      <td>3</td>\n",
       "      <td>5</td>\n",
       "    </tr>\n",
       "    <tr>\n",
       "      <th>Shorts</th>\n",
       "      <td>0</td>\n",
       "      <td>0</td>\n",
       "      <td>0</td>\n",
       "      <td>0</td>\n",
       "      <td>0</td>\n",
       "      <td>0</td>\n",
       "      <td>0</td>\n",
       "      <td>0</td>\n",
       "      <td>0</td>\n",
       "      <td>0</td>\n",
       "      <td>0</td>\n",
       "      <td>1</td>\n",
       "      <td>4</td>\n",
       "      <td>2</td>\n",
       "      <td>0</td>\n",
       "    </tr>\n",
       "    <tr>\n",
       "      <th>Sport</th>\n",
       "      <td>0</td>\n",
       "      <td>0</td>\n",
       "      <td>1</td>\n",
       "      <td>7</td>\n",
       "      <td>25</td>\n",
       "      <td>2</td>\n",
       "      <td>4</td>\n",
       "      <td>4</td>\n",
       "      <td>170</td>\n",
       "      <td>0</td>\n",
       "      <td>2</td>\n",
       "      <td>9</td>\n",
       "      <td>27</td>\n",
       "      <td>1</td>\n",
       "      <td>7</td>\n",
       "    </tr>\n",
       "    <tr>\n",
       "      <th>Standup Comedy</th>\n",
       "      <td>0</td>\n",
       "      <td>0</td>\n",
       "      <td>34</td>\n",
       "      <td>0</td>\n",
       "      <td>0</td>\n",
       "      <td>0</td>\n",
       "      <td>0</td>\n",
       "      <td>0</td>\n",
       "      <td>0</td>\n",
       "      <td>0</td>\n",
       "      <td>0</td>\n",
       "      <td>0</td>\n",
       "      <td>3</td>\n",
       "      <td>14</td>\n",
       "      <td>0</td>\n",
       "    </tr>\n",
       "    <tr>\n",
       "      <th>Superhero</th>\n",
       "      <td>0</td>\n",
       "      <td>0</td>\n",
       "      <td>3</td>\n",
       "      <td>0</td>\n",
       "      <td>0</td>\n",
       "      <td>0</td>\n",
       "      <td>0</td>\n",
       "      <td>0</td>\n",
       "      <td>0</td>\n",
       "      <td>0</td>\n",
       "      <td>0</td>\n",
       "      <td>0</td>\n",
       "      <td>44</td>\n",
       "      <td>10</td>\n",
       "      <td>4</td>\n",
       "    </tr>\n",
       "    <tr>\n",
       "      <th>Talk Show</th>\n",
       "      <td>0</td>\n",
       "      <td>0</td>\n",
       "      <td>2</td>\n",
       "      <td>0</td>\n",
       "      <td>11</td>\n",
       "      <td>0</td>\n",
       "      <td>0</td>\n",
       "      <td>0</td>\n",
       "      <td>5</td>\n",
       "      <td>0</td>\n",
       "      <td>0</td>\n",
       "      <td>29</td>\n",
       "      <td>22</td>\n",
       "      <td>3</td>\n",
       "      <td>7</td>\n",
       "    </tr>\n",
       "    <tr>\n",
       "      <th>Teen</th>\n",
       "      <td>0</td>\n",
       "      <td>0</td>\n",
       "      <td>0</td>\n",
       "      <td>0</td>\n",
       "      <td>0</td>\n",
       "      <td>0</td>\n",
       "      <td>0</td>\n",
       "      <td>0</td>\n",
       "      <td>0</td>\n",
       "      <td>0</td>\n",
       "      <td>0</td>\n",
       "      <td>7</td>\n",
       "      <td>17</td>\n",
       "      <td>1</td>\n",
       "      <td>5</td>\n",
       "    </tr>\n",
       "    <tr>\n",
       "      <th>Thriller</th>\n",
       "      <td>2</td>\n",
       "      <td>0</td>\n",
       "      <td>25</td>\n",
       "      <td>0</td>\n",
       "      <td>0</td>\n",
       "      <td>0</td>\n",
       "      <td>0</td>\n",
       "      <td>0</td>\n",
       "      <td>0</td>\n",
       "      <td>0</td>\n",
       "      <td>0</td>\n",
       "      <td>19</td>\n",
       "      <td>138</td>\n",
       "      <td>119</td>\n",
       "      <td>10</td>\n",
       "    </tr>\n",
       "    <tr>\n",
       "      <th>Travel</th>\n",
       "      <td>0</td>\n",
       "      <td>0</td>\n",
       "      <td>1</td>\n",
       "      <td>0</td>\n",
       "      <td>0</td>\n",
       "      <td>0</td>\n",
       "      <td>0</td>\n",
       "      <td>0</td>\n",
       "      <td>0</td>\n",
       "      <td>0</td>\n",
       "      <td>0</td>\n",
       "      <td>1</td>\n",
       "      <td>3</td>\n",
       "      <td>0</td>\n",
       "      <td>2</td>\n",
       "    </tr>\n",
       "  </tbody>\n",
       "</table>\n",
       "</div>"
      ],
      "text/plain": [
       "age_rating        12+  15+   A  English   G  Hindi  Kannada  Marathi   PG  \\\n",
       "genre                                                                       \n",
       "Action              0    0  24        0   0      0        0        0    0   \n",
       "Adventure           0    0   0        0   0      0        0        0    0   \n",
       "Animals & Nature    0    0   0        0   0      0        0        0    0   \n",
       "Animation           0    0   0        0   0      0        0        0    0   \n",
       "Awards              1    0   0        0   1      0        0        0    1   \n",
       "Biopic              0    0   4        0   0      0        0        0    0   \n",
       "Comedy              0    2  40        0   2      0        0        0    5   \n",
       "Concert Film        0    0   0        0   2      0        0        0    0   \n",
       "Crime               0    3  11        0   0      0        0        0    0   \n",
       "Docudrama           0    0   1        0   0      0        0        0    0   \n",
       "Documentary         0    0   5        0   0      0        0        0    1   \n",
       "Drama               2    1  81        0   6      0        1        0   25   \n",
       "Family              1    0   0        0   2      0        0        0    7   \n",
       "Fantasy             0    0   0        0   0      0        0        0    0   \n",
       "Food                0    0   0        0   0      0        0        0    0   \n",
       "Historical          0    0   6        0   0      0        0        0    0   \n",
       "Horror              0    0  15        0   0      0        0        0    0   \n",
       "Kids                0    0   0        0   0      0        0        0    0   \n",
       "Lifestyle           0    0   0        0   2      0        0        0    0   \n",
       "Musical             0    0   0        0   0      0        0        0    0   \n",
       "Mystery             0    0   1        0   1      0        0        0    0   \n",
       "Mythology           2    0   0        0   0      0        0        0    5   \n",
       "Reality            10    2   0        0  27      0        1        0   36   \n",
       "Romance             0    1   7        0   2      0        0        0   17   \n",
       "Science             0    0   0        0   0      0        0        0    0   \n",
       "Science Fiction     0    0   4        0   0      0        0        0    0   \n",
       "Shorts              0    0   0        0   0      0        0        0    0   \n",
       "Sport               0    0   1        7  25      2        4        4  170   \n",
       "Standup Comedy      0    0  34        0   0      0        0        0    0   \n",
       "Superhero           0    0   3        0   0      0        0        0    0   \n",
       "Talk Show           0    0   2        0  11      0        0        0    5   \n",
       "Teen                0    0   0        0   0      0        0        0    0   \n",
       "Thriller            2    0  25        0   0      0        0        0    0   \n",
       "Travel              0    0   1        0   0      0        0        0    0   \n",
       "\n",
       "age_rating        Tamil  Telugu    U  U/A 13+  U/A 16+  U/A 7+  \n",
       "genre                                                           \n",
       "Action                0       0   29      271      201      54  \n",
       "Adventure             0       0    9        5        0      30  \n",
       "Animals & Nature      0       0   11        8        0     100  \n",
       "Animation             0       0  163        3        1      46  \n",
       "Awards                0       0    3       10        0      10  \n",
       "Biopic                0       0    9       14        9       5  \n",
       "Comedy                0       0  113      297       95     186  \n",
       "Concert Film          0       0    6        1        0       1  \n",
       "Crime                 0       0    1       28       44       2  \n",
       "Docudrama             0       0    0        3        2       0  \n",
       "Documentary           0       0   32       43       28      65  \n",
       "Drama                 2       0  263      892      297     211  \n",
       "Family                0       0   63      103        5      63  \n",
       "Fantasy               0       0    0        0        0       3  \n",
       "Food                  0       0    1        2        0       3  \n",
       "Historical            0       0    2       17       13       3  \n",
       "Horror                0       0    3       32       44       1  \n",
       "Kids                  0       0   22        4        0      17  \n",
       "Lifestyle             0       0    4        9        0      11  \n",
       "Musical               0       0    4        2        5       4  \n",
       "Mystery               0       0    6        8        8       1  \n",
       "Mythology             0       0   11       48        0       9  \n",
       "Reality               0       0   70      136       15      73  \n",
       "Romance               0       0  115      327       67      65  \n",
       "Science               0       0    1        6        1      26  \n",
       "Science Fiction       0       0    3       23        3       5  \n",
       "Shorts                0       0    1        4        2       0  \n",
       "Sport                 0       2    9       27        1       7  \n",
       "Standup Comedy        0       0    0        3       14       0  \n",
       "Superhero             0       0    0       44       10       4  \n",
       "Talk Show             0       0   29       22        3       7  \n",
       "Teen                  0       0    7       17        1       5  \n",
       "Thriller              0       0   19      138      119      10  \n",
       "Travel                0       0    1        3        0       2  "
      ]
     },
     "execution_count": 39,
     "metadata": {},
     "output_type": "execute_result"
    }
   ],
   "source": [
    "# crosstab of genre and age ratting variables\n",
    "pd.crosstab(data['genre'], data['age_rating'])"
   ]
  },
  {
   "cell_type": "markdown",
   "id": "c3a143d6",
   "metadata": {},
   "source": [
    "###### *from the above cross tab we can see which genre (movie or tv show) how many different age_rated movies or tvshows are there "
   ]
  },
  {
   "cell_type": "code",
   "execution_count": 40,
   "id": "e0b2b248",
   "metadata": {},
   "outputs": [
    {
     "data": {
      "text/plain": [
       "<AxesSubplot:xlabel='age_rating', ylabel='genre'>"
      ]
     },
     "execution_count": 40,
     "metadata": {},
     "output_type": "execute_result"
    },
    {
     "data": {
      "image/png": "[encoded data removed]",
      "text/plain": [
       "<Figure size 432x288 with 2 Axes>"
      ]
     },
     "metadata": {
      "needs_background": "light"
     },
     "output_type": "display_data"
    }
   ],
   "source": [
    "#heat map of genre and age_Rating variables\n",
    "sns.heatmap(pd.crosstab(data['genre'], data['age_rating']),cmap='Reds')\n"
   ]
  },
  {
   "cell_type": "markdown",
   "id": "d2e09cc4",
   "metadata": {},
   "source": [
    "###### *we can see that the corelation between U/A 13+ AND 16+ of documentary films is high and almost all genres are comes under them\n",
    "###### *Action movies or tv shows can be seen by ages above 7+ which is evident from above heat map\n",
    "###### *there is A content in Thriller Standup comedy\n",
    "###### *Shorts are related to PG"
   ]
  },
  {
   "cell_type": "code",
   "execution_count": 41,
   "id": "e9272be8",
   "metadata": {},
   "outputs": [
    {
     "data": {
      "text/html": [
       "<div>\n",
       "<style scoped>\n",
       "    .dataframe tbody tr th:only-of-type {\n",
       "        vertical-align: middle;\n",
       "    }\n",
       "\n",
       "    .dataframe tbody tr th {\n",
       "        vertical-align: top;\n",
       "    }\n",
       "\n",
       "    .dataframe thead th {\n",
       "        text-align: right;\n",
       "    }\n",
       "</style>\n",
       "<table border=\"1\" class=\"dataframe\">\n",
       "  <thead>\n",
       "    <tr style=\"text-align: right;\">\n",
       "      <th>type</th>\n",
       "      <th>movie</th>\n",
       "      <th>tv</th>\n",
       "    </tr>\n",
       "    <tr>\n",
       "      <th>genre</th>\n",
       "      <th></th>\n",
       "      <th></th>\n",
       "    </tr>\n",
       "  </thead>\n",
       "  <tbody>\n",
       "    <tr>\n",
       "      <th>Action</th>\n",
       "      <td>533</td>\n",
       "      <td>46</td>\n",
       "    </tr>\n",
       "    <tr>\n",
       "      <th>Adventure</th>\n",
       "      <td>40</td>\n",
       "      <td>4</td>\n",
       "    </tr>\n",
       "    <tr>\n",
       "      <th>Animals &amp; Nature</th>\n",
       "      <td>53</td>\n",
       "      <td>66</td>\n",
       "    </tr>\n",
       "    <tr>\n",
       "      <th>Animation</th>\n",
       "      <td>212</td>\n",
       "      <td>1</td>\n",
       "    </tr>\n",
       "    <tr>\n",
       "      <th>Awards</th>\n",
       "      <td>0</td>\n",
       "      <td>26</td>\n",
       "    </tr>\n",
       "    <tr>\n",
       "      <th>Biopic</th>\n",
       "      <td>36</td>\n",
       "      <td>5</td>\n",
       "    </tr>\n",
       "    <tr>\n",
       "      <th>Comedy</th>\n",
       "      <td>502</td>\n",
       "      <td>238</td>\n",
       "    </tr>\n",
       "    <tr>\n",
       "      <th>Concert Film</th>\n",
       "      <td>2</td>\n",
       "      <td>8</td>\n",
       "    </tr>\n",
       "    <tr>\n",
       "      <th>Crime</th>\n",
       "      <td>50</td>\n",
       "      <td>39</td>\n",
       "    </tr>\n",
       "    <tr>\n",
       "      <th>Docudrama</th>\n",
       "      <td>2</td>\n",
       "      <td>4</td>\n",
       "    </tr>\n",
       "    <tr>\n",
       "      <th>Documentary</th>\n",
       "      <td>124</td>\n",
       "      <td>50</td>\n",
       "    </tr>\n",
       "    <tr>\n",
       "      <th>Drama</th>\n",
       "      <td>1346</td>\n",
       "      <td>435</td>\n",
       "    </tr>\n",
       "    <tr>\n",
       "      <th>Family</th>\n",
       "      <td>148</td>\n",
       "      <td>96</td>\n",
       "    </tr>\n",
       "    <tr>\n",
       "      <th>Fantasy</th>\n",
       "      <td>3</td>\n",
       "      <td>0</td>\n",
       "    </tr>\n",
       "    <tr>\n",
       "      <th>Food</th>\n",
       "      <td>0</td>\n",
       "      <td>6</td>\n",
       "    </tr>\n",
       "    <tr>\n",
       "      <th>Historical</th>\n",
       "      <td>31</td>\n",
       "      <td>10</td>\n",
       "    </tr>\n",
       "    <tr>\n",
       "      <th>Horror</th>\n",
       "      <td>81</td>\n",
       "      <td>14</td>\n",
       "    </tr>\n",
       "    <tr>\n",
       "      <th>Kids</th>\n",
       "      <td>12</td>\n",
       "      <td>31</td>\n",
       "    </tr>\n",
       "    <tr>\n",
       "      <th>Lifestyle</th>\n",
       "      <td>0</td>\n",
       "      <td>26</td>\n",
       "    </tr>\n",
       "    <tr>\n",
       "      <th>Musical</th>\n",
       "      <td>14</td>\n",
       "      <td>1</td>\n",
       "    </tr>\n",
       "    <tr>\n",
       "      <th>Mystery</th>\n",
       "      <td>21</td>\n",
       "      <td>4</td>\n",
       "    </tr>\n",
       "    <tr>\n",
       "      <th>Mythology</th>\n",
       "      <td>15</td>\n",
       "      <td>60</td>\n",
       "    </tr>\n",
       "    <tr>\n",
       "      <th>Reality</th>\n",
       "      <td>1</td>\n",
       "      <td>369</td>\n",
       "    </tr>\n",
       "    <tr>\n",
       "      <th>Romance</th>\n",
       "      <td>464</td>\n",
       "      <td>137</td>\n",
       "    </tr>\n",
       "    <tr>\n",
       "      <th>Science</th>\n",
       "      <td>20</td>\n",
       "      <td>14</td>\n",
       "    </tr>\n",
       "    <tr>\n",
       "      <th>Science Fiction</th>\n",
       "      <td>36</td>\n",
       "      <td>2</td>\n",
       "    </tr>\n",
       "    <tr>\n",
       "      <th>Shorts</th>\n",
       "      <td>1</td>\n",
       "      <td>6</td>\n",
       "    </tr>\n",
       "    <tr>\n",
       "      <th>Sport</th>\n",
       "      <td>2</td>\n",
       "      <td>257</td>\n",
       "    </tr>\n",
       "    <tr>\n",
       "      <th>Standup Comedy</th>\n",
       "      <td>49</td>\n",
       "      <td>2</td>\n",
       "    </tr>\n",
       "    <tr>\n",
       "      <th>Superhero</th>\n",
       "      <td>44</td>\n",
       "      <td>17</td>\n",
       "    </tr>\n",
       "    <tr>\n",
       "      <th>Talk Show</th>\n",
       "      <td>0</td>\n",
       "      <td>79</td>\n",
       "    </tr>\n",
       "    <tr>\n",
       "      <th>Teen</th>\n",
       "      <td>11</td>\n",
       "      <td>19</td>\n",
       "    </tr>\n",
       "    <tr>\n",
       "      <th>Thriller</th>\n",
       "      <td>274</td>\n",
       "      <td>39</td>\n",
       "    </tr>\n",
       "    <tr>\n",
       "      <th>Travel</th>\n",
       "      <td>1</td>\n",
       "      <td>6</td>\n",
       "    </tr>\n",
       "  </tbody>\n",
       "</table>\n",
       "</div>"
      ],
      "text/plain": [
       "type              movie   tv\n",
       "genre                       \n",
       "Action              533   46\n",
       "Adventure            40    4\n",
       "Animals & Nature     53   66\n",
       "Animation           212    1\n",
       "Awards                0   26\n",
       "Biopic               36    5\n",
       "Comedy              502  238\n",
       "Concert Film          2    8\n",
       "Crime                50   39\n",
       "Docudrama             2    4\n",
       "Documentary         124   50\n",
       "Drama              1346  435\n",
       "Family              148   96\n",
       "Fantasy               3    0\n",
       "Food                  0    6\n",
       "Historical           31   10\n",
       "Horror               81   14\n",
       "Kids                 12   31\n",
       "Lifestyle             0   26\n",
       "Musical              14    1\n",
       "Mystery              21    4\n",
       "Mythology            15   60\n",
       "Reality               1  369\n",
       "Romance             464  137\n",
       "Science              20   14\n",
       "Science Fiction      36    2\n",
       "Shorts                1    6\n",
       "Sport                 2  257\n",
       "Standup Comedy       49    2\n",
       "Superhero            44   17\n",
       "Talk Show             0   79\n",
       "Teen                 11   19\n",
       "Thriller            274   39\n",
       "Travel                1    6"
      ]
     },
     "execution_count": 41,
     "metadata": {},
     "output_type": "execute_result"
    }
   ],
   "source": [
    "# cross tab of genre and type variables\n",
    "pd.crosstab(data['genre'], data['type'])"
   ]
  },
  {
   "cell_type": "markdown",
   "id": "6b4598a7",
   "metadata": {},
   "source": [
    "###### *from the above cross tab we can see which genre movie have how many tv shows or movies in it"
   ]
  },
  {
   "cell_type": "code",
   "execution_count": 42,
   "id": "e3617446",
   "metadata": {},
   "outputs": [
    {
     "data": {
      "text/plain": [
       "<AxesSubplot:xlabel='type', ylabel='genre'>"
      ]
     },
     "execution_count": 42,
     "metadata": {},
     "output_type": "execute_result"
    },
    {
     "data": {
      "image/png": "[encoded data removed]",
      "text/plain": [
       "<Figure size 432x288 with 2 Axes>"
      ]
     },
     "metadata": {
      "needs_background": "light"
     },
     "output_type": "display_data"
    }
   ],
   "source": [
    "#heat map of genre and type variables\n",
    "sns.heatmap(pd.crosstab(data['genre'], data['type']),cmap='Reds')"
   ]
  },
  {
   "cell_type": "markdown",
   "id": "a188189e",
   "metadata": {},
   "source": [
    "###### *from the above heatmap we can se that documentries are highly corelated with movies and also with tv shows\n",
    "###### *Science reality genres are highly with movies\n",
    "###### *science mystery aree with tv shows\n",
    "###### *thrillers are movies\n",
    "###### *shorts and talk shows are tv shows\n",
    "###### *Comedy action are movies"
   ]
  },
  {
   "cell_type": "code",
   "execution_count": 43,
   "id": "10d48754",
   "metadata": {},
   "outputs": [
    {
     "data": {
      "text/html": [
       "<div>\n",
       "<style scoped>\n",
       "    .dataframe tbody tr th:only-of-type {\n",
       "        vertical-align: middle;\n",
       "    }\n",
       "\n",
       "    .dataframe tbody tr th {\n",
       "        vertical-align: top;\n",
       "    }\n",
       "\n",
       "    .dataframe thead th {\n",
       "        text-align: right;\n",
       "    }\n",
       "</style>\n",
       "<table border=\"1\" class=\"dataframe\">\n",
       "  <thead>\n",
       "    <tr style=\"text-align: right;\">\n",
       "      <th>age_rating</th>\n",
       "      <th>12+</th>\n",
       "      <th>15+</th>\n",
       "      <th>A</th>\n",
       "      <th>English</th>\n",
       "      <th>G</th>\n",
       "      <th>Hindi</th>\n",
       "      <th>Kannada</th>\n",
       "      <th>Marathi</th>\n",
       "      <th>PG</th>\n",
       "      <th>Tamil</th>\n",
       "      <th>Telugu</th>\n",
       "      <th>U</th>\n",
       "      <th>U/A 13+</th>\n",
       "      <th>U/A 16+</th>\n",
       "      <th>U/A 7+</th>\n",
       "    </tr>\n",
       "    <tr>\n",
       "      <th>type</th>\n",
       "      <th></th>\n",
       "      <th></th>\n",
       "      <th></th>\n",
       "      <th></th>\n",
       "      <th></th>\n",
       "      <th></th>\n",
       "      <th></th>\n",
       "      <th></th>\n",
       "      <th></th>\n",
       "      <th></th>\n",
       "      <th></th>\n",
       "      <th></th>\n",
       "      <th></th>\n",
       "      <th></th>\n",
       "      <th></th>\n",
       "    </tr>\n",
       "  </thead>\n",
       "  <tbody>\n",
       "    <tr>\n",
       "      <th>movie</th>\n",
       "      <td>0</td>\n",
       "      <td>0</td>\n",
       "      <td>148</td>\n",
       "      <td>0</td>\n",
       "      <td>0</td>\n",
       "      <td>0</td>\n",
       "      <td>0</td>\n",
       "      <td>0</td>\n",
       "      <td>0</td>\n",
       "      <td>0</td>\n",
       "      <td>0</td>\n",
       "      <td>820</td>\n",
       "      <td>1638</td>\n",
       "      <td>800</td>\n",
       "      <td>722</td>\n",
       "    </tr>\n",
       "    <tr>\n",
       "      <th>tv</th>\n",
       "      <td>18</td>\n",
       "      <td>9</td>\n",
       "      <td>117</td>\n",
       "      <td>7</td>\n",
       "      <td>81</td>\n",
       "      <td>2</td>\n",
       "      <td>6</td>\n",
       "      <td>4</td>\n",
       "      <td>272</td>\n",
       "      <td>2</td>\n",
       "      <td>2</td>\n",
       "      <td>190</td>\n",
       "      <td>912</td>\n",
       "      <td>188</td>\n",
       "      <td>307</td>\n",
       "    </tr>\n",
       "  </tbody>\n",
       "</table>\n",
       "</div>"
      ],
      "text/plain": [
       "age_rating  12+  15+    A  English   G  Hindi  Kannada  Marathi   PG  Tamil  \\\n",
       "type                                                                          \n",
       "movie         0    0  148        0   0      0        0        0    0      0   \n",
       "tv           18    9  117        7  81      2        6        4  272      2   \n",
       "\n",
       "age_rating  Telugu    U  U/A 13+  U/A 16+  U/A 7+  \n",
       "type                                               \n",
       "movie            0  820     1638      800     722  \n",
       "tv               2  190      912      188     307  "
      ]
     },
     "execution_count": 43,
     "metadata": {},
     "output_type": "execute_result"
    }
   ],
   "source": [
    "# cross tab of type and age_rating\n",
    "pd.crosstab(data['type'], data['age_rating'])"
   ]
  },
  {
   "cell_type": "markdown",
   "id": "69d2bd14",
   "metadata": {},
   "source": [
    "###### *from the above cross tab we can observe that which type of movie/tvshows have how many different age rated"
   ]
  },
  {
   "cell_type": "code",
   "execution_count": 44,
   "id": "1576b047",
   "metadata": {},
   "outputs": [
    {
     "data": {
      "text/plain": [
       "<AxesSubplot:xlabel='age_rating', ylabel='type'>"
      ]
     },
     "execution_count": 44,
     "metadata": {},
     "output_type": "execute_result"
    },
    {
     "data": {
      "image/png": "[encoded data removed]",
      "text/plain": [
       "<Figure size 432x288 with 2 Axes>"
      ]
     },
     "metadata": {
      "needs_background": "light"
     },
     "output_type": "display_data"
    }
   ],
   "source": [
    "#heatmap of type and age_rating\n",
    "sns.heatmap(pd.crosstab(data['type'], data['age_rating']),cmap='Reds')"
   ]
  },
  {
   "cell_type": "markdown",
   "id": "e5356c8e",
   "metadata": {},
   "source": [
    "###### *from the above heat map we can see that U/A 13+ has more movies and considerable range of tv shows also\n",
    "###### *u/A 16+,U/A 7+, U are correleated with movies\n",
    "###### *PG and G corelated with tv shows\n",
    "###### *A rated have both movies and tv shows"
   ]
  },
  {
   "cell_type": "markdown",
   "id": "55ccd558",
   "metadata": {},
   "source": [
    "## Multivariate Analysis"
   ]
  },
  {
   "cell_type": "code",
   "execution_count": 5,
   "id": "40016f0e",
   "metadata": {},
   "outputs": [
    {
     "data": {
      "image/png": "[encoded data removed]",
      "text/plain": [
       "<Figure size 540x540 with 12 Axes>"
      ]
     },
     "metadata": {
      "needs_background": "light"
     },
     "output_type": "display_data"
    }
   ],
   "source": [
    "#plot the pair plot of type, year, running_time variables in data\n",
    "sns.pairplot(data, vars=['type','year','running_time'])\n",
    "plt.show()"
   ]
  },
  {
   "cell_type": "markdown",
   "id": "b08ba8e8",
   "metadata": {},
   "source": [
    "- from the above pairplot in the type vs year graph most of the movies are started from the 1925 years where as tv shows started from 1975 \n",
    "- from type vs running time graph we can see that movies running time is mostly concentrated at 0-200 minutes where as tv shows running time is upto 300 minutes  \n",
    "- running_time vs year highest running_time density is recorded at the years above 2000 "
   ]
  },
  {
   "cell_type": "code",
   "execution_count": 6,
   "id": "96c9460e",
   "metadata": {},
   "outputs": [
    {
     "data": {
      "image/png": "[encoded data removed]",
      "text/plain": [
       "<Figure size 540x540 with 12 Axes>"
      ]
     },
     "metadata": {
      "needs_background": "light"
     },
     "output_type": "display_data"
    }
   ],
   "source": [
    "#plot the pair plot of age_rating , year, running_time in data \n",
    "sns.pairplot(data, vars=['age_rating','year','running_time'])\n",
    "plt.show()"
   ]
  },
  {
   "cell_type": "markdown",
   "id": "3b10bd53",
   "metadata": {},
   "source": [
    "- from the above  scatter plot we can observe from the age_rating vs year U rated movies were released in almost every year 12+,15+,G,pg,A rated movies started to release from the years 1980\n",
    "- from the above age_rating vs running_time scatter plot we can see that U/A13+ rating has highest running_time and PG,G,15+,12+ rated movies has running between100 and 200 \n"
   ]
  },
  {
   "cell_type": "markdown",
   "id": "a78acce4",
   "metadata": {},
   "source": [
    "# statistical analysis"
   ]
  },
  {
   "cell_type": "code",
   "execution_count": 45,
   "id": "6fe2f15f",
   "metadata": {},
   "outputs": [
    {
     "data": {
      "text/html": [
       "<div>\n",
       "<style scoped>\n",
       "    .dataframe tbody tr th:only-of-type {\n",
       "        vertical-align: middle;\n",
       "    }\n",
       "\n",
       "    .dataframe tbody tr th {\n",
       "        vertical-align: top;\n",
       "    }\n",
       "\n",
       "    .dataframe thead th {\n",
       "        text-align: right;\n",
       "    }\n",
       "</style>\n",
       "<table border=\"1\" class=\"dataframe\">\n",
       "  <thead>\n",
       "    <tr style=\"text-align: right;\">\n",
       "      <th></th>\n",
       "      <th>hotstar_id</th>\n",
       "      <th>title</th>\n",
       "      <th>description</th>\n",
       "      <th>genre</th>\n",
       "      <th>year</th>\n",
       "      <th>age_rating</th>\n",
       "      <th>running_time</th>\n",
       "      <th>seasons</th>\n",
       "      <th>episodes</th>\n",
       "      <th>type</th>\n",
       "    </tr>\n",
       "  </thead>\n",
       "  <tbody>\n",
       "    <tr>\n",
       "      <th>0</th>\n",
       "      <td>1000231066</td>\n",
       "      <td>Rekka</td>\n",
       "      <td>Known for helping girls in getting out of unwa...</td>\n",
       "      <td>Action</td>\n",
       "      <td>2016</td>\n",
       "      <td>U/A 13+</td>\n",
       "      <td>114.00000</td>\n",
       "      <td>NaN</td>\n",
       "      <td>NaN</td>\n",
       "      <td>movie</td>\n",
       "    </tr>\n",
       "    <tr>\n",
       "      <th>1</th>\n",
       "      <td>1260059119</td>\n",
       "      <td>Hamara Bar Happy Hour</td>\n",
       "      <td>Failed actors and friends Pari, Gulshan, Shiva...</td>\n",
       "      <td>Comedy</td>\n",
       "      <td>2021</td>\n",
       "      <td>U/A 16+</td>\n",
       "      <td>104.11313</td>\n",
       "      <td>1.0</td>\n",
       "      <td>8.0</td>\n",
       "      <td>tv</td>\n",
       "    </tr>\n",
       "    <tr>\n",
       "      <th>2</th>\n",
       "      <td>1000098151</td>\n",
       "      <td>Shodha</td>\n",
       "      <td>As part of a study tour, a group of college st...</td>\n",
       "      <td>Drama</td>\n",
       "      <td>2009</td>\n",
       "      <td>U/A 13+</td>\n",
       "      <td>113.00000</td>\n",
       "      <td>NaN</td>\n",
       "      <td>NaN</td>\n",
       "      <td>movie</td>\n",
       "    </tr>\n",
       "    <tr>\n",
       "      <th>3</th>\n",
       "      <td>1770000953</td>\n",
       "      <td>Aliens</td>\n",
       "      <td>After surviving an apocalyptic attack aboard h...</td>\n",
       "      <td>Action</td>\n",
       "      <td>1986</td>\n",
       "      <td>A</td>\n",
       "      <td>137.00000</td>\n",
       "      <td>NaN</td>\n",
       "      <td>NaN</td>\n",
       "      <td>movie</td>\n",
       "    </tr>\n",
       "    <tr>\n",
       "      <th>4</th>\n",
       "      <td>1000108836</td>\n",
       "      <td>Arakkallan Mukkalkkallan</td>\n",
       "      <td>Naagan and Aruvikkara Thampy are sworn enemies...</td>\n",
       "      <td>Thriller</td>\n",
       "      <td>1974</td>\n",
       "      <td>U</td>\n",
       "      <td>152.00000</td>\n",
       "      <td>NaN</td>\n",
       "      <td>NaN</td>\n",
       "      <td>movie</td>\n",
       "    </tr>\n",
       "  </tbody>\n",
       "</table>\n",
       "</div>"
      ],
      "text/plain": [
       "   hotstar_id                     title  \\\n",
       "0  1000231066                     Rekka   \n",
       "1  1260059119     Hamara Bar Happy Hour   \n",
       "2  1000098151                    Shodha   \n",
       "3  1770000953                    Aliens   \n",
       "4  1000108836  Arakkallan Mukkalkkallan   \n",
       "\n",
       "                                         description     genre  year  \\\n",
       "0  Known for helping girls in getting out of unwa...    Action  2016   \n",
       "1  Failed actors and friends Pari, Gulshan, Shiva...    Comedy  2021   \n",
       "2  As part of a study tour, a group of college st...     Drama  2009   \n",
       "3  After surviving an apocalyptic attack aboard h...    Action  1986   \n",
       "4  Naagan and Aruvikkara Thampy are sworn enemies...  Thriller  1974   \n",
       "\n",
       "  age_rating  running_time  seasons  episodes   type  \n",
       "0    U/A 13+     114.00000      NaN       NaN  movie  \n",
       "1    U/A 16+     104.11313      1.0       8.0     tv  \n",
       "2    U/A 13+     113.00000      NaN       NaN  movie  \n",
       "3          A     137.00000      NaN       NaN  movie  \n",
       "4          U     152.00000      NaN       NaN  movie  "
      ]
     },
     "execution_count": 45,
     "metadata": {},
     "output_type": "execute_result"
    }
   ],
   "source": [
    "data.head()"
   ]
  },
  {
   "cell_type": "code",
   "execution_count": 46,
   "id": "7c5827ad",
   "metadata": {},
   "outputs": [
    {
     "data": {
      "text/plain": [
       "count      6245\n",
       "unique       34\n",
       "top       Drama\n",
       "freq       1781\n",
       "Name: genre, dtype: object"
      ]
     },
     "execution_count": 46,
     "metadata": {},
     "output_type": "execute_result"
    }
   ],
   "source": [
    "# describing genre varaible with describe function\n",
    "data.genre.describe()"
   ]
  },
  {
   "cell_type": "markdown",
   "id": "0d4ab3b0",
   "metadata": {},
   "source": [
    "###### *there are 6245 rows present in genre row\n",
    "###### *34 unique genres are there\n",
    "###### *the frequency of genre variable is 1781\n",
    "###### *it has object datatype "
   ]
  },
  {
   "cell_type": "code",
   "execution_count": 47,
   "id": "6bae455e",
   "metadata": {},
   "outputs": [
    {
     "data": {
      "text/plain": [
       "count    6245.000000\n",
       "mean     2010.900721\n",
       "std        12.131899\n",
       "min      1928.000000\n",
       "25%      2008.000000\n",
       "50%      2015.000000\n",
       "75%      2019.000000\n",
       "max      2022.000000\n",
       "Name: year, dtype: float64"
      ]
     },
     "execution_count": 47,
     "metadata": {},
     "output_type": "execute_result"
    }
   ],
   "source": [
    "# describing year varaible with describe function\n",
    "data.year.describe()\n"
   ]
  },
  {
   "cell_type": "markdown",
   "id": "4a212974",
   "metadata": {},
   "source": [
    "###### *there are 6245 rows in year column\n",
    "###### *mean year is 2010\n",
    "###### *minimum number of movies were released in the year 2008\n",
    "###### *50% of movies were released in the year 2015\n",
    "###### *75% of movies were released in the year 2019\n",
    "###### *max were relesed in 2022\n",
    "###### *it has float64 data type"
   ]
  },
  {
   "cell_type": "code",
   "execution_count": 48,
   "id": "2e88411c",
   "metadata": {},
   "outputs": [
    {
     "data": {
      "text/plain": [
       "count    2117.000000\n",
       "mean        2.689655\n",
       "std         5.009118\n",
       "min         1.000000\n",
       "25%         1.000000\n",
       "50%         1.000000\n",
       "75%         2.000000\n",
       "max        73.000000\n",
       "Name: seasons, dtype: float64"
      ]
     },
     "execution_count": 48,
     "metadata": {},
     "output_type": "execute_result"
    }
   ],
   "source": [
    "# describing seasons varaible with describe function\n",
    "data.seasons.describe()"
   ]
  },
  {
   "cell_type": "markdown",
   "id": "48d9e31c",
   "metadata": {},
   "source": [
    "###### *there are 6245 rows in seasons column\n",
    "###### *mean seasons is 2.6\n",
    "###### *minimum number of seasons is 1\n",
    "###### *there 25% of 1 seasons\n",
    "###### *there are 50% 1 seasons\n",
    "###### *there are 75% of 2 seasons\n",
    "###### *at max there are 73 seasons\n",
    "###### *it has float64 data type\n"
   ]
  },
  {
   "cell_type": "code",
   "execution_count": 49,
   "id": "8d676e29",
   "metadata": {},
   "outputs": [
    {
     "data": {
      "text/plain": [
       "count    2117.000000\n",
       "mean      124.507322\n",
       "std       253.966973\n",
       "min         1.000000\n",
       "25%         6.000000\n",
       "50%        22.000000\n",
       "75%       126.000000\n",
       "max      3786.000000\n",
       "Name: episodes, dtype: float64"
      ]
     },
     "execution_count": 49,
     "metadata": {},
     "output_type": "execute_result"
    }
   ],
   "source": [
    "# describing episodes varaible with describe function\n",
    "data.episodes.describe()\n"
   ]
  },
  {
   "cell_type": "markdown",
   "id": "391413b0",
   "metadata": {},
   "source": [
    "###### *there are 6245 rows in seasons column\n",
    "###### *mean episodes is 124\n",
    "###### *minimum number of episodes are 1\n",
    "###### *there 25% of 6 episodes\n",
    "###### *there are 50% of 22 episodess\n",
    "###### *there are 75% of 126 episodes\n",
    "###### *at max there are 3786 seasons\n",
    "###### *it has float64 data type\n",
    "###### *std 253 episodes are there\n"
   ]
  },
  {
   "cell_type": "code",
   "execution_count": 50,
   "id": "6fe905bd",
   "metadata": {},
   "outputs": [
    {
     "data": {
      "text/plain": [
       "count        6245\n",
       "unique         15\n",
       "top       U/A 13+\n",
       "freq         2550\n",
       "Name: age_rating, dtype: object"
      ]
     },
     "execution_count": 50,
     "metadata": {},
     "output_type": "execute_result"
    }
   ],
   "source": [
    "# describing age_rating varaible with describe function\n",
    "data.age_rating.describe()"
   ]
  },
  {
   "cell_type": "markdown",
   "id": "73738a3c",
   "metadata": {},
   "source": [
    "###### *there are 6245 rows\n",
    "###### *there are 15 types of ratings\n",
    "###### *highest there are U/A 13+ movies or tv shows\n",
    "###### *its frequency is 2550\n"
   ]
  },
  {
   "cell_type": "code",
   "execution_count": 51,
   "id": "c09094ff",
   "metadata": {},
   "outputs": [
    {
     "data": {
      "text/plain": [
       "count    6245.00000\n",
       "mean      104.11313\n",
       "std        37.43447\n",
       "min         1.00000\n",
       "25%       104.11313\n",
       "50%       104.11313\n",
       "75%       129.00000\n",
       "max       199.00000\n",
       "Name: running_time, dtype: float64"
      ]
     },
     "execution_count": 51,
     "metadata": {},
     "output_type": "execute_result"
    }
   ],
   "source": [
    "# describing running_time varaible with describe function\n",
    "data.running_time.describe()"
   ]
  },
  {
   "cell_type": "markdown",
   "id": "a0fc158e",
   "metadata": {},
   "source": [
    "###### *there are 6245 rows in seasons column\n",
    "###### *mean running_time is 104 minutes\n",
    "###### *minimum running_time is 1 minute\n",
    "###### *there 25% of 104 minutes of movies/tv shows\n",
    "###### *there are 50% of 104 minutes of movies/tv shows\n",
    "###### *there are 75% of 129 minutes of movies/tv shows\n",
    "###### *maximum running_time is 199 minutes\n",
    "###### *it has float64 data type\n",
    "###### *std is 37 running_time\n"
   ]
  },
  {
   "cell_type": "code",
   "execution_count": 52,
   "id": "cf2a55bb",
   "metadata": {},
   "outputs": [
    {
     "data": {
      "text/plain": [
       "count      6245\n",
       "unique        2\n",
       "top       movie\n",
       "freq       4128\n",
       "Name: type, dtype: object"
      ]
     },
     "execution_count": 52,
     "metadata": {},
     "output_type": "execute_result"
    }
   ],
   "source": [
    "# describing type varaible with describe function\n",
    "data.type.describe()"
   ]
  },
  {
   "cell_type": "markdown",
   "id": "871985d6",
   "metadata": {},
   "source": [
    "###### *there are 6245 rows\n",
    "###### *there are two types shows\n",
    "###### *frequency is 4128\n",
    "###### *datatype is object"
   ]
  },
  {
   "cell_type": "code",
   "execution_count": null,
   "id": "f6c001fd",
   "metadata": {},
   "outputs": [],
   "source": []
  }
 ],
 "metadata": {
  "kernelspec": {
   "display_name": "Python 3 (ipykernel)",
   "language": "python",
   "name": "python3"
  },
  "language_info": {
   "codemirror_mode": {
    "name": "ipython",
    "version": 3
   },
   "file_extension": ".py",
   "mimetype": "text/x-python",
   "name": "python",
   "nbconvert_exporter": "python",
   "pygments_lexer": "ipython3",
   "version": "3.9.7"
  }
 },
 "nbformat": 4,
 "nbformat_minor": 5
}
